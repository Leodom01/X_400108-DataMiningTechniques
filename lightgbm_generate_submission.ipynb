{
 "cells": [
  {
   "cell_type": "code",
   "execution_count": 1,
   "id": "initial_id",
   "metadata": {
    "collapsed": true,
    "ExecuteTime": {
     "end_time": "2024-05-15T13:39:09.992254Z",
     "start_time": "2024-05-15T13:39:02.761264Z"
    }
   },
   "outputs": [],
   "source": [
    "import lightgbm as lgb\n",
    "import pandas as pd\n",
    "import numpy as np\n",
    "from sklearn.model_selection import GroupShuffleSplit\n",
    "import xgboost as xgb\n",
    "\n",
    "train_set = pd.read_csv('./dataset/train_new_feature.csv')\n",
    "import re\n",
    "train_set = train_set.rename(columns = lambda x:re.sub('[^A-Za-z0-9_]+', '', x))\n",
    "test_set = pd.read_csv('./dataset/test_new_feature.csv')\n",
    "test_set = test_set.rename(columns = lambda x:re.sub('[^A-Za-z0-9_]+', '', x))\n"
   ]
  },
  {
   "cell_type": "code",
   "execution_count": 2,
   "outputs": [],
   "source": [
    "X_train = train_set.loc[:, ~train_set.columns.isin(['srch_id','target_label', 'position'])]\n",
    "y_train = train_set.loc[:, train_set.columns.isin(['target_label'])]\n",
    "\n",
    "q_id_train = train_set['srch_id']\n",
    "q_id_test = test_set['srch_id']\n",
    "\n",
    "groups = train_set.groupby('srch_id').size()\n",
    "\n",
    "#We need to keep the id for later predictions\n",
    "X_test = test_set.loc[:, ~test_set.columns.isin(['srch_id','target_label'])]\n",
    "y_test = test_set.loc[:, test_set.columns.isin(['target_label'])]"
   ],
   "metadata": {
    "collapsed": false,
    "ExecuteTime": {
     "end_time": "2024-05-15T13:39:10.518827Z",
     "start_time": "2024-05-15T13:39:09.999354Z"
    }
   },
   "id": "16b83c5ab6a3bb3"
  },
  {
   "cell_type": "code",
   "execution_count": 3,
   "outputs": [
    {
     "name": "stdout",
     "output_type": "stream",
     "text": [
      "[LightGBM] [Info] Auto-choosing row-wise multi-threading, the overhead of testing was 0.101179 seconds.\n",
      "You can set `force_row_wise=true` to remove the overhead.\n",
      "And if memory is not enough, you can set `force_col_wise=true`.\n",
      "[LightGBM] [Info] Total Bins 2978\n",
      "[LightGBM] [Info] Number of data points in the train set: 4958347, number of used features: 21\n"
     ]
    },
    {
     "data": {
      "text/plain": "LGBMRanker(learning_rate=0.12, metric='ndcg', n_estimators=2000,\n           objective='lambdarank')",
      "text/html": "<style>#sk-container-id-1 {\n  /* Definition of color scheme common for light and dark mode */\n  --sklearn-color-text: black;\n  --sklearn-color-line: gray;\n  /* Definition of color scheme for unfitted estimators */\n  --sklearn-color-unfitted-level-0: #fff5e6;\n  --sklearn-color-unfitted-level-1: #f6e4d2;\n  --sklearn-color-unfitted-level-2: #ffe0b3;\n  --sklearn-color-unfitted-level-3: chocolate;\n  /* Definition of color scheme for fitted estimators */\n  --sklearn-color-fitted-level-0: #f0f8ff;\n  --sklearn-color-fitted-level-1: #d4ebff;\n  --sklearn-color-fitted-level-2: #b3dbfd;\n  --sklearn-color-fitted-level-3: cornflowerblue;\n\n  /* Specific color for light theme */\n  --sklearn-color-text-on-default-background: var(--sg-text-color, var(--theme-code-foreground, var(--jp-content-font-color1, black)));\n  --sklearn-color-background: var(--sg-background-color, var(--theme-background, var(--jp-layout-color0, white)));\n  --sklearn-color-border-box: var(--sg-text-color, var(--theme-code-foreground, var(--jp-content-font-color1, black)));\n  --sklearn-color-icon: #696969;\n\n  @media (prefers-color-scheme: dark) {\n    /* Redefinition of color scheme for dark theme */\n    --sklearn-color-text-on-default-background: var(--sg-text-color, var(--theme-code-foreground, var(--jp-content-font-color1, white)));\n    --sklearn-color-background: var(--sg-background-color, var(--theme-background, var(--jp-layout-color0, #111)));\n    --sklearn-color-border-box: var(--sg-text-color, var(--theme-code-foreground, var(--jp-content-font-color1, white)));\n    --sklearn-color-icon: #878787;\n  }\n}\n\n#sk-container-id-1 {\n  color: var(--sklearn-color-text);\n}\n\n#sk-container-id-1 pre {\n  padding: 0;\n}\n\n#sk-container-id-1 input.sk-hidden--visually {\n  border: 0;\n  clip: rect(1px 1px 1px 1px);\n  clip: rect(1px, 1px, 1px, 1px);\n  height: 1px;\n  margin: -1px;\n  overflow: hidden;\n  padding: 0;\n  position: absolute;\n  width: 1px;\n}\n\n#sk-container-id-1 div.sk-dashed-wrapped {\n  border: 1px dashed var(--sklearn-color-line);\n  margin: 0 0.4em 0.5em 0.4em;\n  box-sizing: border-box;\n  padding-bottom: 0.4em;\n  background-color: var(--sklearn-color-background);\n}\n\n#sk-container-id-1 div.sk-container {\n  /* jupyter's `normalize.less` sets `[hidden] { display: none; }`\n     but bootstrap.min.css set `[hidden] { display: none !important; }`\n     so we also need the `!important` here to be able to override the\n     default hidden behavior on the sphinx rendered scikit-learn.org.\n     See: https://github.com/scikit-learn/scikit-learn/issues/21755 */\n  display: inline-block !important;\n  position: relative;\n}\n\n#sk-container-id-1 div.sk-text-repr-fallback {\n  display: none;\n}\n\ndiv.sk-parallel-item,\ndiv.sk-serial,\ndiv.sk-item {\n  /* draw centered vertical line to link estimators */\n  background-image: linear-gradient(var(--sklearn-color-text-on-default-background), var(--sklearn-color-text-on-default-background));\n  background-size: 2px 100%;\n  background-repeat: no-repeat;\n  background-position: center center;\n}\n\n/* Parallel-specific style estimator block */\n\n#sk-container-id-1 div.sk-parallel-item::after {\n  content: \"\";\n  width: 100%;\n  border-bottom: 2px solid var(--sklearn-color-text-on-default-background);\n  flex-grow: 1;\n}\n\n#sk-container-id-1 div.sk-parallel {\n  display: flex;\n  align-items: stretch;\n  justify-content: center;\n  background-color: var(--sklearn-color-background);\n  position: relative;\n}\n\n#sk-container-id-1 div.sk-parallel-item {\n  display: flex;\n  flex-direction: column;\n}\n\n#sk-container-id-1 div.sk-parallel-item:first-child::after {\n  align-self: flex-end;\n  width: 50%;\n}\n\n#sk-container-id-1 div.sk-parallel-item:last-child::after {\n  align-self: flex-start;\n  width: 50%;\n}\n\n#sk-container-id-1 div.sk-parallel-item:only-child::after {\n  width: 0;\n}\n\n/* Serial-specific style estimator block */\n\n#sk-container-id-1 div.sk-serial {\n  display: flex;\n  flex-direction: column;\n  align-items: center;\n  background-color: var(--sklearn-color-background);\n  padding-right: 1em;\n  padding-left: 1em;\n}\n\n\n/* Toggleable style: style used for estimator/Pipeline/ColumnTransformer box that is\nclickable and can be expanded/collapsed.\n- Pipeline and ColumnTransformer use this feature and define the default style\n- Estimators will overwrite some part of the style using the `sk-estimator` class\n*/\n\n/* Pipeline and ColumnTransformer style (default) */\n\n#sk-container-id-1 div.sk-toggleable {\n  /* Default theme specific background. It is overwritten whether we have a\n  specific estimator or a Pipeline/ColumnTransformer */\n  background-color: var(--sklearn-color-background);\n}\n\n/* Toggleable label */\n#sk-container-id-1 label.sk-toggleable__label {\n  cursor: pointer;\n  display: block;\n  width: 100%;\n  margin-bottom: 0;\n  padding: 0.5em;\n  box-sizing: border-box;\n  text-align: center;\n}\n\n#sk-container-id-1 label.sk-toggleable__label-arrow:before {\n  /* Arrow on the left of the label */\n  content: \"▸\";\n  float: left;\n  margin-right: 0.25em;\n  color: var(--sklearn-color-icon);\n}\n\n#sk-container-id-1 label.sk-toggleable__label-arrow:hover:before {\n  color: var(--sklearn-color-text);\n}\n\n/* Toggleable content - dropdown */\n\n#sk-container-id-1 div.sk-toggleable__content {\n  max-height: 0;\n  max-width: 0;\n  overflow: hidden;\n  text-align: left;\n  /* unfitted */\n  background-color: var(--sklearn-color-unfitted-level-0);\n}\n\n#sk-container-id-1 div.sk-toggleable__content.fitted {\n  /* fitted */\n  background-color: var(--sklearn-color-fitted-level-0);\n}\n\n#sk-container-id-1 div.sk-toggleable__content pre {\n  margin: 0.2em;\n  border-radius: 0.25em;\n  color: var(--sklearn-color-text);\n  /* unfitted */\n  background-color: var(--sklearn-color-unfitted-level-0);\n}\n\n#sk-container-id-1 div.sk-toggleable__content.fitted pre {\n  /* unfitted */\n  background-color: var(--sklearn-color-fitted-level-0);\n}\n\n#sk-container-id-1 input.sk-toggleable__control:checked~div.sk-toggleable__content {\n  /* Expand drop-down */\n  max-height: 200px;\n  max-width: 100%;\n  overflow: auto;\n}\n\n#sk-container-id-1 input.sk-toggleable__control:checked~label.sk-toggleable__label-arrow:before {\n  content: \"▾\";\n}\n\n/* Pipeline/ColumnTransformer-specific style */\n\n#sk-container-id-1 div.sk-label input.sk-toggleable__control:checked~label.sk-toggleable__label {\n  color: var(--sklearn-color-text);\n  background-color: var(--sklearn-color-unfitted-level-2);\n}\n\n#sk-container-id-1 div.sk-label.fitted input.sk-toggleable__control:checked~label.sk-toggleable__label {\n  background-color: var(--sklearn-color-fitted-level-2);\n}\n\n/* Estimator-specific style */\n\n/* Colorize estimator box */\n#sk-container-id-1 div.sk-estimator input.sk-toggleable__control:checked~label.sk-toggleable__label {\n  /* unfitted */\n  background-color: var(--sklearn-color-unfitted-level-2);\n}\n\n#sk-container-id-1 div.sk-estimator.fitted input.sk-toggleable__control:checked~label.sk-toggleable__label {\n  /* fitted */\n  background-color: var(--sklearn-color-fitted-level-2);\n}\n\n#sk-container-id-1 div.sk-label label.sk-toggleable__label,\n#sk-container-id-1 div.sk-label label {\n  /* The background is the default theme color */\n  color: var(--sklearn-color-text-on-default-background);\n}\n\n/* On hover, darken the color of the background */\n#sk-container-id-1 div.sk-label:hover label.sk-toggleable__label {\n  color: var(--sklearn-color-text);\n  background-color: var(--sklearn-color-unfitted-level-2);\n}\n\n/* Label box, darken color on hover, fitted */\n#sk-container-id-1 div.sk-label.fitted:hover label.sk-toggleable__label.fitted {\n  color: var(--sklearn-color-text);\n  background-color: var(--sklearn-color-fitted-level-2);\n}\n\n/* Estimator label */\n\n#sk-container-id-1 div.sk-label label {\n  font-family: monospace;\n  font-weight: bold;\n  display: inline-block;\n  line-height: 1.2em;\n}\n\n#sk-container-id-1 div.sk-label-container {\n  text-align: center;\n}\n\n/* Estimator-specific */\n#sk-container-id-1 div.sk-estimator {\n  font-family: monospace;\n  border: 1px dotted var(--sklearn-color-border-box);\n  border-radius: 0.25em;\n  box-sizing: border-box;\n  margin-bottom: 0.5em;\n  /* unfitted */\n  background-color: var(--sklearn-color-unfitted-level-0);\n}\n\n#sk-container-id-1 div.sk-estimator.fitted {\n  /* fitted */\n  background-color: var(--sklearn-color-fitted-level-0);\n}\n\n/* on hover */\n#sk-container-id-1 div.sk-estimator:hover {\n  /* unfitted */\n  background-color: var(--sklearn-color-unfitted-level-2);\n}\n\n#sk-container-id-1 div.sk-estimator.fitted:hover {\n  /* fitted */\n  background-color: var(--sklearn-color-fitted-level-2);\n}\n\n/* Specification for estimator info (e.g. \"i\" and \"?\") */\n\n/* Common style for \"i\" and \"?\" */\n\n.sk-estimator-doc-link,\na:link.sk-estimator-doc-link,\na:visited.sk-estimator-doc-link {\n  float: right;\n  font-size: smaller;\n  line-height: 1em;\n  font-family: monospace;\n  background-color: var(--sklearn-color-background);\n  border-radius: 1em;\n  height: 1em;\n  width: 1em;\n  text-decoration: none !important;\n  margin-left: 1ex;\n  /* unfitted */\n  border: var(--sklearn-color-unfitted-level-1) 1pt solid;\n  color: var(--sklearn-color-unfitted-level-1);\n}\n\n.sk-estimator-doc-link.fitted,\na:link.sk-estimator-doc-link.fitted,\na:visited.sk-estimator-doc-link.fitted {\n  /* fitted */\n  border: var(--sklearn-color-fitted-level-1) 1pt solid;\n  color: var(--sklearn-color-fitted-level-1);\n}\n\n/* On hover */\ndiv.sk-estimator:hover .sk-estimator-doc-link:hover,\n.sk-estimator-doc-link:hover,\ndiv.sk-label-container:hover .sk-estimator-doc-link:hover,\n.sk-estimator-doc-link:hover {\n  /* unfitted */\n  background-color: var(--sklearn-color-unfitted-level-3);\n  color: var(--sklearn-color-background);\n  text-decoration: none;\n}\n\ndiv.sk-estimator.fitted:hover .sk-estimator-doc-link.fitted:hover,\n.sk-estimator-doc-link.fitted:hover,\ndiv.sk-label-container:hover .sk-estimator-doc-link.fitted:hover,\n.sk-estimator-doc-link.fitted:hover {\n  /* fitted */\n  background-color: var(--sklearn-color-fitted-level-3);\n  color: var(--sklearn-color-background);\n  text-decoration: none;\n}\n\n/* Span, style for the box shown on hovering the info icon */\n.sk-estimator-doc-link span {\n  display: none;\n  z-index: 9999;\n  position: relative;\n  font-weight: normal;\n  right: .2ex;\n  padding: .5ex;\n  margin: .5ex;\n  width: min-content;\n  min-width: 20ex;\n  max-width: 50ex;\n  color: var(--sklearn-color-text);\n  box-shadow: 2pt 2pt 4pt #999;\n  /* unfitted */\n  background: var(--sklearn-color-unfitted-level-0);\n  border: .5pt solid var(--sklearn-color-unfitted-level-3);\n}\n\n.sk-estimator-doc-link.fitted span {\n  /* fitted */\n  background: var(--sklearn-color-fitted-level-0);\n  border: var(--sklearn-color-fitted-level-3);\n}\n\n.sk-estimator-doc-link:hover span {\n  display: block;\n}\n\n/* \"?\"-specific style due to the `<a>` HTML tag */\n\n#sk-container-id-1 a.estimator_doc_link {\n  float: right;\n  font-size: 1rem;\n  line-height: 1em;\n  font-family: monospace;\n  background-color: var(--sklearn-color-background);\n  border-radius: 1rem;\n  height: 1rem;\n  width: 1rem;\n  text-decoration: none;\n  /* unfitted */\n  color: var(--sklearn-color-unfitted-level-1);\n  border: var(--sklearn-color-unfitted-level-1) 1pt solid;\n}\n\n#sk-container-id-1 a.estimator_doc_link.fitted {\n  /* fitted */\n  border: var(--sklearn-color-fitted-level-1) 1pt solid;\n  color: var(--sklearn-color-fitted-level-1);\n}\n\n/* On hover */\n#sk-container-id-1 a.estimator_doc_link:hover {\n  /* unfitted */\n  background-color: var(--sklearn-color-unfitted-level-3);\n  color: var(--sklearn-color-background);\n  text-decoration: none;\n}\n\n#sk-container-id-1 a.estimator_doc_link.fitted:hover {\n  /* fitted */\n  background-color: var(--sklearn-color-fitted-level-3);\n}\n</style><div id=\"sk-container-id-1\" class=\"sk-top-container\"><div class=\"sk-text-repr-fallback\"><pre>LGBMRanker(learning_rate=0.12, metric=&#x27;ndcg&#x27;, n_estimators=2000,\n           objective=&#x27;lambdarank&#x27;)</pre><b>In a Jupyter environment, please rerun this cell to show the HTML representation or trust the notebook. <br />On GitHub, the HTML representation is unable to render, please try loading this page with nbviewer.org.</b></div><div class=\"sk-container\" hidden><div class=\"sk-item\"><div class=\"sk-estimator fitted sk-toggleable\"><input class=\"sk-toggleable__control sk-hidden--visually\" id=\"sk-estimator-id-1\" type=\"checkbox\" checked><label for=\"sk-estimator-id-1\" class=\"sk-toggleable__label fitted sk-toggleable__label-arrow fitted\">&nbsp;LGBMRanker<span class=\"sk-estimator-doc-link fitted\">i<span>Fitted</span></span></label><div class=\"sk-toggleable__content fitted\"><pre>LGBMRanker(learning_rate=0.12, metric=&#x27;ndcg&#x27;, n_estimators=2000,\n           objective=&#x27;lambdarank&#x27;)</pre></div> </div></div></div></div>"
     },
     "execution_count": 3,
     "metadata": {},
     "output_type": "execute_result"
    }
   ],
   "source": [
    "from lightgbm import LGBMRanker\n",
    "\n",
    "gbm = LGBMRanker(\n",
    "    objective=\"lambdarank\",\n",
    "    metric=\"ndcg\",\n",
    "    n_estimators=2000,\n",
    "    learning_rate=0.12,\n",
    ")\n",
    "gbm.fit(X_train, y_train, group=groups)"
   ],
   "metadata": {
    "collapsed": false,
    "ExecuteTime": {
     "end_time": "2024-05-15T13:41:21.165392Z",
     "start_time": "2024-05-15T13:39:10.520931Z"
    }
   },
   "id": "a5724b6b738e8a64"
  },
  {
   "cell_type": "markdown",
   "source": [],
   "metadata": {
    "collapsed": false
   },
   "id": "1094d83d129d70a3"
  },
  {
   "cell_type": "code",
   "execution_count": 4,
   "outputs": [
    {
     "name": "stdout",
     "output_type": "stream",
     "text": [
      "Index(['visitor_hist_starrating', 'visitor_hist_adr_usd', 'prop_country_id',\n",
      "       'prop_id', 'prop_starrating', 'prop_review_score', 'prop_brand_bool',\n",
      "       'prop_location_score1', 'prop_location_score2',\n",
      "       'prop_log_historical_price', 'price_usd', 'promotion_flag',\n",
      "       'srch_length_of_stay', 'srch_booking_window', 'srch_adults_count',\n",
      "       'srch_children_count', 'srch_room_count', 'srch_saturday_night_bool',\n",
      "       'srch_query_affinity_score', 'MEANprop_idprice_usd',\n",
      "       'SUBSTRACTprice_usdMEAN'],\n",
      "      dtype='object')\n",
      "Index(['visitor_hist_starrating', 'visitor_hist_adr_usd', 'prop_country_id',\n",
      "       'prop_id', 'prop_starrating', 'prop_review_score', 'prop_brand_bool',\n",
      "       'prop_location_score1', 'prop_location_score2',\n",
      "       'prop_log_historical_price', 'price_usd', 'promotion_flag',\n",
      "       'srch_length_of_stay', 'srch_booking_window', 'srch_adults_count',\n",
      "       'srch_children_count', 'srch_room_count', 'srch_saturday_night_bool',\n",
      "       'srch_query_affinity_score', 'MEANprop_idprice_usd',\n",
      "       'SUBSTRACTprice_usdMEAN'],\n",
      "      dtype='object')\n"
     ]
    }
   ],
   "source": [
    "print(X_test.columns)\n",
    "print(X_train.columns)"
   ],
   "metadata": {
    "collapsed": false,
    "ExecuteTime": {
     "end_time": "2024-05-15T13:41:21.168584Z",
     "start_time": "2024-05-15T13:41:21.166199Z"
    }
   },
   "id": "e8e9d32cb0d80401"
  },
  {
   "cell_type": "code",
   "execution_count": 5,
   "outputs": [
    {
     "name": "stderr",
     "output_type": "stream",
     "text": [
      "Processing groups: 100%|██████████| 199549/199549 [09:01<00:00, 368.18it/s]\n"
     ]
    }
   ],
   "source": [
    "from tqdm import tqdm\n",
    "\n",
    "predictions = []\n",
    "# Use tqdm to track progress over unique groups\n",
    "for group in tqdm(np.unique(q_id_test), desc='Processing groups'):\n",
    "    preds = gbm.predict(X_test[q_id_test == group])\n",
    "    predictions.extend(preds)\n",
    "\n",
    "\n"
   ],
   "metadata": {
    "collapsed": false,
    "ExecuteTime": {
     "end_time": "2024-05-15T13:50:23.260466Z",
     "start_time": "2024-05-15T13:41:21.169609Z"
    }
   },
   "id": "350eda07a215588a"
  },
  {
   "cell_type": "code",
   "execution_count": 6,
   "outputs": [],
   "source": [
    "X_test['preds'] = predictions\n",
    "X_test['srch_id'] = q_id_test\n",
    "\n",
    "result = X_test.sort_values(by=['srch_id', 'preds'], ascending=[True, False])\n",
    "result[['srch_id', 'prop_id']].reset_index(drop=True).to_csv(\"dataset/submission8_lightgbm.csv\", index=False)"
   ],
   "metadata": {
    "collapsed": false,
    "ExecuteTime": {
     "end_time": "2024-05-15T13:50:48.944610Z",
     "start_time": "2024-05-15T13:50:23.359339Z"
    }
   },
   "id": "906f7fad07cc8961"
  },
  {
   "cell_type": "code",
   "execution_count": 7,
   "outputs": [
    {
     "data": {
      "text/plain": "         visitor_hist_starrating  visitor_hist_adr_usd  prop_country_id  \\\n0                            NaN                   NaN              219   \n1                            NaN                   NaN              219   \n2                            NaN                   NaN              219   \n3                            NaN                   NaN              219   \n4                            NaN                   NaN              219   \n...                          ...                   ...              ...   \n4959178                      NaN                   NaN              117   \n4959179                      NaN                   NaN              117   \n4959180                      NaN                   NaN              117   \n4959181                      NaN                   NaN              117   \n4959182                      NaN                   NaN              117   \n\n         prop_id  prop_starrating  prop_review_score  prop_brand_bool  \\\n0           3180                3                4.5                1   \n1           5543                3                4.5                1   \n2          14142                2                3.5                1   \n3          22393                3                4.5                1   \n4          24194                3                4.5                1   \n...          ...              ...                ...              ...   \n4959178    32019                4                3.5                0   \n4959179    33959                4                3.0                1   \n4959180    35240                4                0.0                0   \n4959181    94437                4                0.0                0   \n4959182    99509                4                4.5                1   \n\n         prop_location_score1  prop_location_score2  \\\n0                        2.94                0.0691   \n1                        2.64                0.0843   \n2                        2.71                0.0556   \n3                        2.40                0.0561   \n4                        2.94                0.2090   \n...                       ...                   ...   \n4959178                  2.48                0.0551   \n4959179                  2.20                0.3344   \n4959180                  1.79                   NaN   \n4959181                  2.94                0.0928   \n4959182                  2.08                0.0344   \n\n         prop_log_historical_price  ...  srch_booking_window  \\\n0                             5.03  ...                   10   \n1                             4.93  ...                   10   \n2                             4.16  ...                   10   \n3                             5.03  ...                   10   \n4                             4.72  ...                   10   \n...                            ...  ...                  ...   \n4959178                       4.53  ...                    7   \n4959179                       4.39  ...                    7   \n4959180                       4.64  ...                    7   \n4959181                       4.64  ...                    7   \n4959182                       4.64  ...                    7   \n\n         srch_adults_count  srch_children_count  srch_room_count  \\\n0                        2                    0                1   \n1                        2                    0                1   \n2                        2                    0                1   \n3                        2                    0                1   \n4                        2                    0                1   \n...                    ...                  ...              ...   \n4959178                  1                    0                1   \n4959179                  1                    0                1   \n4959180                  1                    0                1   \n4959181                  1                    0                1   \n4959182                  1                    0                1   \n\n         srch_saturday_night_bool  srch_query_affinity_score  \\\n0                               0                        NaN   \n1                               0                        NaN   \n2                               0                        NaN   \n3                               0                        NaN   \n4                               0                        NaN   \n...                           ...                        ...   \n4959178                         0                        NaN   \n4959179                         0                        NaN   \n4959180                         0                        NaN   \n4959181                         0                        NaN   \n4959182                         0                        NaN   \n\n         MEANprop_idprice_usd  SUBSTRACTprice_usdMEAN     preds  srch_id  \n0                  125.520757               -6.520757 -0.042211        1  \n1                  117.532579                0.467421  0.029925        1  \n2                   51.886600               -2.886600 -0.404749        1  \n3                  133.987619                9.012381 -0.538686        1  \n4                   86.308224               -7.308224  0.887949        1  \n...                       ...                     ...       ...      ...  \n4959178             62.260769                3.809231 -0.149487   332787  \n4959179             63.847692                3.252308  0.842564   332787  \n4959180             62.955000               10.955000 -0.953241   332787  \n4959181             64.810000                1.260000 -0.250466   332787  \n4959182             82.265833               -0.205833 -0.149670   332787  \n\n[4959183 rows x 23 columns]",
      "text/html": "<div>\n<style scoped>\n    .dataframe tbody tr th:only-of-type {\n        vertical-align: middle;\n    }\n\n    .dataframe tbody tr th {\n        vertical-align: top;\n    }\n\n    .dataframe thead th {\n        text-align: right;\n    }\n</style>\n<table border=\"1\" class=\"dataframe\">\n  <thead>\n    <tr style=\"text-align: right;\">\n      <th></th>\n      <th>visitor_hist_starrating</th>\n      <th>visitor_hist_adr_usd</th>\n      <th>prop_country_id</th>\n      <th>prop_id</th>\n      <th>prop_starrating</th>\n      <th>prop_review_score</th>\n      <th>prop_brand_bool</th>\n      <th>prop_location_score1</th>\n      <th>prop_location_score2</th>\n      <th>prop_log_historical_price</th>\n      <th>...</th>\n      <th>srch_booking_window</th>\n      <th>srch_adults_count</th>\n      <th>srch_children_count</th>\n      <th>srch_room_count</th>\n      <th>srch_saturday_night_bool</th>\n      <th>srch_query_affinity_score</th>\n      <th>MEANprop_idprice_usd</th>\n      <th>SUBSTRACTprice_usdMEAN</th>\n      <th>preds</th>\n      <th>srch_id</th>\n    </tr>\n  </thead>\n  <tbody>\n    <tr>\n      <th>0</th>\n      <td>NaN</td>\n      <td>NaN</td>\n      <td>219</td>\n      <td>3180</td>\n      <td>3</td>\n      <td>4.5</td>\n      <td>1</td>\n      <td>2.94</td>\n      <td>0.0691</td>\n      <td>5.03</td>\n      <td>...</td>\n      <td>10</td>\n      <td>2</td>\n      <td>0</td>\n      <td>1</td>\n      <td>0</td>\n      <td>NaN</td>\n      <td>125.520757</td>\n      <td>-6.520757</td>\n      <td>-0.042211</td>\n      <td>1</td>\n    </tr>\n    <tr>\n      <th>1</th>\n      <td>NaN</td>\n      <td>NaN</td>\n      <td>219</td>\n      <td>5543</td>\n      <td>3</td>\n      <td>4.5</td>\n      <td>1</td>\n      <td>2.64</td>\n      <td>0.0843</td>\n      <td>4.93</td>\n      <td>...</td>\n      <td>10</td>\n      <td>2</td>\n      <td>0</td>\n      <td>1</td>\n      <td>0</td>\n      <td>NaN</td>\n      <td>117.532579</td>\n      <td>0.467421</td>\n      <td>0.029925</td>\n      <td>1</td>\n    </tr>\n    <tr>\n      <th>2</th>\n      <td>NaN</td>\n      <td>NaN</td>\n      <td>219</td>\n      <td>14142</td>\n      <td>2</td>\n      <td>3.5</td>\n      <td>1</td>\n      <td>2.71</td>\n      <td>0.0556</td>\n      <td>4.16</td>\n      <td>...</td>\n      <td>10</td>\n      <td>2</td>\n      <td>0</td>\n      <td>1</td>\n      <td>0</td>\n      <td>NaN</td>\n      <td>51.886600</td>\n      <td>-2.886600</td>\n      <td>-0.404749</td>\n      <td>1</td>\n    </tr>\n    <tr>\n      <th>3</th>\n      <td>NaN</td>\n      <td>NaN</td>\n      <td>219</td>\n      <td>22393</td>\n      <td>3</td>\n      <td>4.5</td>\n      <td>1</td>\n      <td>2.40</td>\n      <td>0.0561</td>\n      <td>5.03</td>\n      <td>...</td>\n      <td>10</td>\n      <td>2</td>\n      <td>0</td>\n      <td>1</td>\n      <td>0</td>\n      <td>NaN</td>\n      <td>133.987619</td>\n      <td>9.012381</td>\n      <td>-0.538686</td>\n      <td>1</td>\n    </tr>\n    <tr>\n      <th>4</th>\n      <td>NaN</td>\n      <td>NaN</td>\n      <td>219</td>\n      <td>24194</td>\n      <td>3</td>\n      <td>4.5</td>\n      <td>1</td>\n      <td>2.94</td>\n      <td>0.2090</td>\n      <td>4.72</td>\n      <td>...</td>\n      <td>10</td>\n      <td>2</td>\n      <td>0</td>\n      <td>1</td>\n      <td>0</td>\n      <td>NaN</td>\n      <td>86.308224</td>\n      <td>-7.308224</td>\n      <td>0.887949</td>\n      <td>1</td>\n    </tr>\n    <tr>\n      <th>...</th>\n      <td>...</td>\n      <td>...</td>\n      <td>...</td>\n      <td>...</td>\n      <td>...</td>\n      <td>...</td>\n      <td>...</td>\n      <td>...</td>\n      <td>...</td>\n      <td>...</td>\n      <td>...</td>\n      <td>...</td>\n      <td>...</td>\n      <td>...</td>\n      <td>...</td>\n      <td>...</td>\n      <td>...</td>\n      <td>...</td>\n      <td>...</td>\n      <td>...</td>\n      <td>...</td>\n    </tr>\n    <tr>\n      <th>4959178</th>\n      <td>NaN</td>\n      <td>NaN</td>\n      <td>117</td>\n      <td>32019</td>\n      <td>4</td>\n      <td>3.5</td>\n      <td>0</td>\n      <td>2.48</td>\n      <td>0.0551</td>\n      <td>4.53</td>\n      <td>...</td>\n      <td>7</td>\n      <td>1</td>\n      <td>0</td>\n      <td>1</td>\n      <td>0</td>\n      <td>NaN</td>\n      <td>62.260769</td>\n      <td>3.809231</td>\n      <td>-0.149487</td>\n      <td>332787</td>\n    </tr>\n    <tr>\n      <th>4959179</th>\n      <td>NaN</td>\n      <td>NaN</td>\n      <td>117</td>\n      <td>33959</td>\n      <td>4</td>\n      <td>3.0</td>\n      <td>1</td>\n      <td>2.20</td>\n      <td>0.3344</td>\n      <td>4.39</td>\n      <td>...</td>\n      <td>7</td>\n      <td>1</td>\n      <td>0</td>\n      <td>1</td>\n      <td>0</td>\n      <td>NaN</td>\n      <td>63.847692</td>\n      <td>3.252308</td>\n      <td>0.842564</td>\n      <td>332787</td>\n    </tr>\n    <tr>\n      <th>4959180</th>\n      <td>NaN</td>\n      <td>NaN</td>\n      <td>117</td>\n      <td>35240</td>\n      <td>4</td>\n      <td>0.0</td>\n      <td>0</td>\n      <td>1.79</td>\n      <td>NaN</td>\n      <td>4.64</td>\n      <td>...</td>\n      <td>7</td>\n      <td>1</td>\n      <td>0</td>\n      <td>1</td>\n      <td>0</td>\n      <td>NaN</td>\n      <td>62.955000</td>\n      <td>10.955000</td>\n      <td>-0.953241</td>\n      <td>332787</td>\n    </tr>\n    <tr>\n      <th>4959181</th>\n      <td>NaN</td>\n      <td>NaN</td>\n      <td>117</td>\n      <td>94437</td>\n      <td>4</td>\n      <td>0.0</td>\n      <td>0</td>\n      <td>2.94</td>\n      <td>0.0928</td>\n      <td>4.64</td>\n      <td>...</td>\n      <td>7</td>\n      <td>1</td>\n      <td>0</td>\n      <td>1</td>\n      <td>0</td>\n      <td>NaN</td>\n      <td>64.810000</td>\n      <td>1.260000</td>\n      <td>-0.250466</td>\n      <td>332787</td>\n    </tr>\n    <tr>\n      <th>4959182</th>\n      <td>NaN</td>\n      <td>NaN</td>\n      <td>117</td>\n      <td>99509</td>\n      <td>4</td>\n      <td>4.5</td>\n      <td>1</td>\n      <td>2.08</td>\n      <td>0.0344</td>\n      <td>4.64</td>\n      <td>...</td>\n      <td>7</td>\n      <td>1</td>\n      <td>0</td>\n      <td>1</td>\n      <td>0</td>\n      <td>NaN</td>\n      <td>82.265833</td>\n      <td>-0.205833</td>\n      <td>-0.149670</td>\n      <td>332787</td>\n    </tr>\n  </tbody>\n</table>\n<p>4959183 rows × 23 columns</p>\n</div>"
     },
     "execution_count": 7,
     "metadata": {},
     "output_type": "execute_result"
    }
   ],
   "source": [
    "X_test\n"
   ],
   "metadata": {
    "collapsed": false,
    "ExecuteTime": {
     "end_time": "2024-05-15T13:50:50.382752Z",
     "start_time": "2024-05-15T13:50:48.943946Z"
    }
   },
   "id": "b51f90dab7baf18d"
  },
  {
   "cell_type": "code",
   "execution_count": 7,
   "outputs": [],
   "source": [],
   "metadata": {
    "collapsed": false,
    "ExecuteTime": {
     "end_time": "2024-05-15T13:50:50.385103Z",
     "start_time": "2024-05-15T13:50:50.380477Z"
    }
   },
   "id": "d0bf7f84362f2867"
  }
 ],
 "metadata": {
  "kernelspec": {
   "display_name": "Python 3",
   "language": "python",
   "name": "python3"
  },
  "language_info": {
   "codemirror_mode": {
    "name": "ipython",
    "version": 2
   },
   "file_extension": ".py",
   "mimetype": "text/x-python",
   "name": "python",
   "nbconvert_exporter": "python",
   "pygments_lexer": "ipython2",
   "version": "2.7.6"
  }
 },
 "nbformat": 4,
 "nbformat_minor": 5
}
