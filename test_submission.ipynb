{
 "cells": [
  {
   "cell_type": "code",
   "execution_count": 1,
   "id": "initial_id",
   "metadata": {
    "collapsed": true,
    "ExecuteTime": {
     "end_time": "2024-05-16T07:42:55.616789Z",
     "start_time": "2024-05-16T07:42:54.843749Z"
    }
   },
   "outputs": [],
   "source": [
    "import pandas as pd\n",
    "\n",
    "import utility\n",
    "\n",
    "train_set_path = './dataset/train_new_feature.csv'\n",
    "test_set_path = './dataset/test_new_feature.csv'\n"
   ]
  },
  {
   "cell_type": "code",
   "execution_count": 2,
   "outputs": [],
   "source": [
    "X_train, y_train, qid_train, X_test, y_test, qid_test = utility.preprocess_data(pd.read_csv(train_set_path), pd.read_csv(test_set_path), test_label=False)\n"
   ],
   "metadata": {
    "collapsed": false,
    "ExecuteTime": {
     "end_time": "2024-05-16T07:43:04.449259Z",
     "start_time": "2024-05-16T07:42:55.617621Z"
    }
   },
   "id": "de852198e3956ea1"
  },
  {
   "cell_type": "code",
   "execution_count": 3,
   "outputs": [
    {
     "name": "stdout",
     "output_type": "stream",
     "text": [
      "[LightGBM] [Info] Auto-choosing row-wise multi-threading, the overhead of testing was 0.119944 seconds.\n",
      "You can set `force_row_wise=true` to remove the overhead.\n",
      "And if memory is not enough, you can set `force_col_wise=true`.\n",
      "[LightGBM] [Info] Total Bins 2978\n",
      "[LightGBM] [Info] Number of data points in the train set: 4958347, number of used features: 21\n"
     ]
    }
   ],
   "source": [
    "params = {\n",
    "    \"objective\": \"lambdarank\",\n",
    "    \"metric\": \"ndcg\",\n",
    "    \"n_estimators\": 1000,\n",
    "    \"learning_rate\": 0.05\n",
    "}\n",
    "model = utility.train_lgbm_ranker(X_train, y_train, qid_train.value_counts().sort_index(), params)"
   ],
   "metadata": {
    "collapsed": false,
    "ExecuteTime": {
     "end_time": "2024-05-16T07:44:32.038846Z",
     "start_time": "2024-05-16T07:43:04.497162Z"
    }
   },
   "id": "8ce6e2be0b6709c6"
  },
  {
   "cell_type": "code",
   "execution_count": 4,
   "outputs": [
    {
     "name": "stderr",
     "output_type": "stream",
     "text": [
      "Processing groups: 100%|██████████| 199549/199549 [10:07<00:00, 328.67it/s]\n"
     ]
    }
   ],
   "source": [
    "utility.predict_and_generate_submission(model, X_test, qid_test, './dataset/submission9.csv')"
   ],
   "metadata": {
    "collapsed": false,
    "ExecuteTime": {
     "end_time": "2024-05-16T07:54:45.674950Z",
     "start_time": "2024-05-16T07:44:32.039892Z"
    }
   },
   "id": "f731a0a9ab990fe7"
  }
 ],
 "metadata": {
  "kernelspec": {
   "display_name": "Python 3",
   "language": "python",
   "name": "python3"
  },
  "language_info": {
   "codemirror_mode": {
    "name": "ipython",
    "version": 2
   },
   "file_extension": ".py",
   "mimetype": "text/x-python",
   "name": "python",
   "nbconvert_exporter": "python",
   "pygments_lexer": "ipython2",
   "version": "2.7.6"
  }
 },
 "nbformat": 4,
 "nbformat_minor": 5
}
