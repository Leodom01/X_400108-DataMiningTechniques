{
 "cells": [
  {
   "cell_type": "code",
   "execution_count": 1,
   "id": "initial_id",
   "metadata": {
    "collapsed": true,
    "ExecuteTime": {
     "end_time": "2024-05-09T06:57:56.722043Z",
     "start_time": "2024-05-09T06:57:42.270735Z"
    }
   },
   "outputs": [],
   "source": [
    "import pandas as pd\n",
    "import numpy as np\n",
    "\n",
    "df = pd.read_csv('./dataset/clean_v1.csv')\n",
    "df_test = pd.read_csv('./dataset/test_set_VU_DM.csv')"
   ]
  },
  {
   "cell_type": "code",
   "execution_count": 2,
   "outputs": [],
   "source": [
    "X_train = df.loc[:, ~df.columns.isin(['srch_id','target_label'])]\n",
    "y_train = df.loc[:, df.columns.isin(['target_label'])]\n",
    "\n",
    "# groups = train_data.groupby('srch_id').size().to_frame('size')['size'].to_numpy()\n",
    "groups = df['srch_id'].to_numpy()\n",
    "\n",
    "#We need to keep the id for later predictions\n",
    "X_test = df_test.loc[:, ~df_test.columns.isin(['target_label'])]\n",
    "y_test = df_test.loc[:, df_test.columns.isin(['target_label'])]\n",
    "\n",
    "       "
   ],
   "metadata": {
    "collapsed": false,
    "ExecuteTime": {
     "end_time": "2024-05-09T07:05:33.381517Z",
     "start_time": "2024-05-09T07:05:31.889561Z"
    }
   },
   "id": "7e378f33f978295e"
  },
  {
   "cell_type": "code",
   "execution_count": 3,
   "outputs": [
    {
     "data": {
      "text/plain": "XGBRanker(base_score=None, booster=None, callbacks=None, colsample_bylevel=None,\n          colsample_bynode=None, colsample_bytree=None, device=None,\n          early_stopping_rounds=None, enable_categorical=False, eta=0.1,\n          eval_metric='ndcg@5', feature_types=None, gamma=None,\n          grow_policy=None, importance_type=None, interaction_constraints=None,\n          learning_rate=None, max_bin=None, max_cat_threshold=None,\n          max_cat_to_onehot=None, max_delta_step=None, max_depth=6,\n          max_leaves=None, min_child_weight=None, missing=nan,\n          monotone_constraints=None, multi_strategy=None, n_estimators=None,\n          n_jobs=None, num_parallel_tree=None, ...)",
      "text/html": "<style>#sk-container-id-1 {\n  /* Definition of color scheme common for light and dark mode */\n  --sklearn-color-text: black;\n  --sklearn-color-line: gray;\n  /* Definition of color scheme for unfitted estimators */\n  --sklearn-color-unfitted-level-0: #fff5e6;\n  --sklearn-color-unfitted-level-1: #f6e4d2;\n  --sklearn-color-unfitted-level-2: #ffe0b3;\n  --sklearn-color-unfitted-level-3: chocolate;\n  /* Definition of color scheme for fitted estimators */\n  --sklearn-color-fitted-level-0: #f0f8ff;\n  --sklearn-color-fitted-level-1: #d4ebff;\n  --sklearn-color-fitted-level-2: #b3dbfd;\n  --sklearn-color-fitted-level-3: cornflowerblue;\n\n  /* Specific color for light theme */\n  --sklearn-color-text-on-default-background: var(--sg-text-color, var(--theme-code-foreground, var(--jp-content-font-color1, black)));\n  --sklearn-color-background: var(--sg-background-color, var(--theme-background, var(--jp-layout-color0, white)));\n  --sklearn-color-border-box: var(--sg-text-color, var(--theme-code-foreground, var(--jp-content-font-color1, black)));\n  --sklearn-color-icon: #696969;\n\n  @media (prefers-color-scheme: dark) {\n    /* Redefinition of color scheme for dark theme */\n    --sklearn-color-text-on-default-background: var(--sg-text-color, var(--theme-code-foreground, var(--jp-content-font-color1, white)));\n    --sklearn-color-background: var(--sg-background-color, var(--theme-background, var(--jp-layout-color0, #111)));\n    --sklearn-color-border-box: var(--sg-text-color, var(--theme-code-foreground, var(--jp-content-font-color1, white)));\n    --sklearn-color-icon: #878787;\n  }\n}\n\n#sk-container-id-1 {\n  color: var(--sklearn-color-text);\n}\n\n#sk-container-id-1 pre {\n  padding: 0;\n}\n\n#sk-container-id-1 input.sk-hidden--visually {\n  border: 0;\n  clip: rect(1px 1px 1px 1px);\n  clip: rect(1px, 1px, 1px, 1px);\n  height: 1px;\n  margin: -1px;\n  overflow: hidden;\n  padding: 0;\n  position: absolute;\n  width: 1px;\n}\n\n#sk-container-id-1 div.sk-dashed-wrapped {\n  border: 1px dashed var(--sklearn-color-line);\n  margin: 0 0.4em 0.5em 0.4em;\n  box-sizing: border-box;\n  padding-bottom: 0.4em;\n  background-color: var(--sklearn-color-background);\n}\n\n#sk-container-id-1 div.sk-container {\n  /* jupyter's `normalize.less` sets `[hidden] { display: none; }`\n     but bootstrap.min.css set `[hidden] { display: none !important; }`\n     so we also need the `!important` here to be able to override the\n     default hidden behavior on the sphinx rendered scikit-learn.org.\n     See: https://github.com/scikit-learn/scikit-learn/issues/21755 */\n  display: inline-block !important;\n  position: relative;\n}\n\n#sk-container-id-1 div.sk-text-repr-fallback {\n  display: none;\n}\n\ndiv.sk-parallel-item,\ndiv.sk-serial,\ndiv.sk-item {\n  /* draw centered vertical line to link estimators */\n  background-image: linear-gradient(var(--sklearn-color-text-on-default-background), var(--sklearn-color-text-on-default-background));\n  background-size: 2px 100%;\n  background-repeat: no-repeat;\n  background-position: center center;\n}\n\n/* Parallel-specific style estimator block */\n\n#sk-container-id-1 div.sk-parallel-item::after {\n  content: \"\";\n  width: 100%;\n  border-bottom: 2px solid var(--sklearn-color-text-on-default-background);\n  flex-grow: 1;\n}\n\n#sk-container-id-1 div.sk-parallel {\n  display: flex;\n  align-items: stretch;\n  justify-content: center;\n  background-color: var(--sklearn-color-background);\n  position: relative;\n}\n\n#sk-container-id-1 div.sk-parallel-item {\n  display: flex;\n  flex-direction: column;\n}\n\n#sk-container-id-1 div.sk-parallel-item:first-child::after {\n  align-self: flex-end;\n  width: 50%;\n}\n\n#sk-container-id-1 div.sk-parallel-item:last-child::after {\n  align-self: flex-start;\n  width: 50%;\n}\n\n#sk-container-id-1 div.sk-parallel-item:only-child::after {\n  width: 0;\n}\n\n/* Serial-specific style estimator block */\n\n#sk-container-id-1 div.sk-serial {\n  display: flex;\n  flex-direction: column;\n  align-items: center;\n  background-color: var(--sklearn-color-background);\n  padding-right: 1em;\n  padding-left: 1em;\n}\n\n\n/* Toggleable style: style used for estimator/Pipeline/ColumnTransformer box that is\nclickable and can be expanded/collapsed.\n- Pipeline and ColumnTransformer use this feature and define the default style\n- Estimators will overwrite some part of the style using the `sk-estimator` class\n*/\n\n/* Pipeline and ColumnTransformer style (default) */\n\n#sk-container-id-1 div.sk-toggleable {\n  /* Default theme specific background. It is overwritten whether we have a\n  specific estimator or a Pipeline/ColumnTransformer */\n  background-color: var(--sklearn-color-background);\n}\n\n/* Toggleable label */\n#sk-container-id-1 label.sk-toggleable__label {\n  cursor: pointer;\n  display: block;\n  width: 100%;\n  margin-bottom: 0;\n  padding: 0.5em;\n  box-sizing: border-box;\n  text-align: center;\n}\n\n#sk-container-id-1 label.sk-toggleable__label-arrow:before {\n  /* Arrow on the left of the label */\n  content: \"▸\";\n  float: left;\n  margin-right: 0.25em;\n  color: var(--sklearn-color-icon);\n}\n\n#sk-container-id-1 label.sk-toggleable__label-arrow:hover:before {\n  color: var(--sklearn-color-text);\n}\n\n/* Toggleable content - dropdown */\n\n#sk-container-id-1 div.sk-toggleable__content {\n  max-height: 0;\n  max-width: 0;\n  overflow: hidden;\n  text-align: left;\n  /* unfitted */\n  background-color: var(--sklearn-color-unfitted-level-0);\n}\n\n#sk-container-id-1 div.sk-toggleable__content.fitted {\n  /* fitted */\n  background-color: var(--sklearn-color-fitted-level-0);\n}\n\n#sk-container-id-1 div.sk-toggleable__content pre {\n  margin: 0.2em;\n  border-radius: 0.25em;\n  color: var(--sklearn-color-text);\n  /* unfitted */\n  background-color: var(--sklearn-color-unfitted-level-0);\n}\n\n#sk-container-id-1 div.sk-toggleable__content.fitted pre {\n  /* unfitted */\n  background-color: var(--sklearn-color-fitted-level-0);\n}\n\n#sk-container-id-1 input.sk-toggleable__control:checked~div.sk-toggleable__content {\n  /* Expand drop-down */\n  max-height: 200px;\n  max-width: 100%;\n  overflow: auto;\n}\n\n#sk-container-id-1 input.sk-toggleable__control:checked~label.sk-toggleable__label-arrow:before {\n  content: \"▾\";\n}\n\n/* Pipeline/ColumnTransformer-specific style */\n\n#sk-container-id-1 div.sk-label input.sk-toggleable__control:checked~label.sk-toggleable__label {\n  color: var(--sklearn-color-text);\n  background-color: var(--sklearn-color-unfitted-level-2);\n}\n\n#sk-container-id-1 div.sk-label.fitted input.sk-toggleable__control:checked~label.sk-toggleable__label {\n  background-color: var(--sklearn-color-fitted-level-2);\n}\n\n/* Estimator-specific style */\n\n/* Colorize estimator box */\n#sk-container-id-1 div.sk-estimator input.sk-toggleable__control:checked~label.sk-toggleable__label {\n  /* unfitted */\n  background-color: var(--sklearn-color-unfitted-level-2);\n}\n\n#sk-container-id-1 div.sk-estimator.fitted input.sk-toggleable__control:checked~label.sk-toggleable__label {\n  /* fitted */\n  background-color: var(--sklearn-color-fitted-level-2);\n}\n\n#sk-container-id-1 div.sk-label label.sk-toggleable__label,\n#sk-container-id-1 div.sk-label label {\n  /* The background is the default theme color */\n  color: var(--sklearn-color-text-on-default-background);\n}\n\n/* On hover, darken the color of the background */\n#sk-container-id-1 div.sk-label:hover label.sk-toggleable__label {\n  color: var(--sklearn-color-text);\n  background-color: var(--sklearn-color-unfitted-level-2);\n}\n\n/* Label box, darken color on hover, fitted */\n#sk-container-id-1 div.sk-label.fitted:hover label.sk-toggleable__label.fitted {\n  color: var(--sklearn-color-text);\n  background-color: var(--sklearn-color-fitted-level-2);\n}\n\n/* Estimator label */\n\n#sk-container-id-1 div.sk-label label {\n  font-family: monospace;\n  font-weight: bold;\n  display: inline-block;\n  line-height: 1.2em;\n}\n\n#sk-container-id-1 div.sk-label-container {\n  text-align: center;\n}\n\n/* Estimator-specific */\n#sk-container-id-1 div.sk-estimator {\n  font-family: monospace;\n  border: 1px dotted var(--sklearn-color-border-box);\n  border-radius: 0.25em;\n  box-sizing: border-box;\n  margin-bottom: 0.5em;\n  /* unfitted */\n  background-color: var(--sklearn-color-unfitted-level-0);\n}\n\n#sk-container-id-1 div.sk-estimator.fitted {\n  /* fitted */\n  background-color: var(--sklearn-color-fitted-level-0);\n}\n\n/* on hover */\n#sk-container-id-1 div.sk-estimator:hover {\n  /* unfitted */\n  background-color: var(--sklearn-color-unfitted-level-2);\n}\n\n#sk-container-id-1 div.sk-estimator.fitted:hover {\n  /* fitted */\n  background-color: var(--sklearn-color-fitted-level-2);\n}\n\n/* Specification for estimator info (e.g. \"i\" and \"?\") */\n\n/* Common style for \"i\" and \"?\" */\n\n.sk-estimator-doc-link,\na:link.sk-estimator-doc-link,\na:visited.sk-estimator-doc-link {\n  float: right;\n  font-size: smaller;\n  line-height: 1em;\n  font-family: monospace;\n  background-color: var(--sklearn-color-background);\n  border-radius: 1em;\n  height: 1em;\n  width: 1em;\n  text-decoration: none !important;\n  margin-left: 1ex;\n  /* unfitted */\n  border: var(--sklearn-color-unfitted-level-1) 1pt solid;\n  color: var(--sklearn-color-unfitted-level-1);\n}\n\n.sk-estimator-doc-link.fitted,\na:link.sk-estimator-doc-link.fitted,\na:visited.sk-estimator-doc-link.fitted {\n  /* fitted */\n  border: var(--sklearn-color-fitted-level-1) 1pt solid;\n  color: var(--sklearn-color-fitted-level-1);\n}\n\n/* On hover */\ndiv.sk-estimator:hover .sk-estimator-doc-link:hover,\n.sk-estimator-doc-link:hover,\ndiv.sk-label-container:hover .sk-estimator-doc-link:hover,\n.sk-estimator-doc-link:hover {\n  /* unfitted */\n  background-color: var(--sklearn-color-unfitted-level-3);\n  color: var(--sklearn-color-background);\n  text-decoration: none;\n}\n\ndiv.sk-estimator.fitted:hover .sk-estimator-doc-link.fitted:hover,\n.sk-estimator-doc-link.fitted:hover,\ndiv.sk-label-container:hover .sk-estimator-doc-link.fitted:hover,\n.sk-estimator-doc-link.fitted:hover {\n  /* fitted */\n  background-color: var(--sklearn-color-fitted-level-3);\n  color: var(--sklearn-color-background);\n  text-decoration: none;\n}\n\n/* Span, style for the box shown on hovering the info icon */\n.sk-estimator-doc-link span {\n  display: none;\n  z-index: 9999;\n  position: relative;\n  font-weight: normal;\n  right: .2ex;\n  padding: .5ex;\n  margin: .5ex;\n  width: min-content;\n  min-width: 20ex;\n  max-width: 50ex;\n  color: var(--sklearn-color-text);\n  box-shadow: 2pt 2pt 4pt #999;\n  /* unfitted */\n  background: var(--sklearn-color-unfitted-level-0);\n  border: .5pt solid var(--sklearn-color-unfitted-level-3);\n}\n\n.sk-estimator-doc-link.fitted span {\n  /* fitted */\n  background: var(--sklearn-color-fitted-level-0);\n  border: var(--sklearn-color-fitted-level-3);\n}\n\n.sk-estimator-doc-link:hover span {\n  display: block;\n}\n\n/* \"?\"-specific style due to the `<a>` HTML tag */\n\n#sk-container-id-1 a.estimator_doc_link {\n  float: right;\n  font-size: 1rem;\n  line-height: 1em;\n  font-family: monospace;\n  background-color: var(--sklearn-color-background);\n  border-radius: 1rem;\n  height: 1rem;\n  width: 1rem;\n  text-decoration: none;\n  /* unfitted */\n  color: var(--sklearn-color-unfitted-level-1);\n  border: var(--sklearn-color-unfitted-level-1) 1pt solid;\n}\n\n#sk-container-id-1 a.estimator_doc_link.fitted {\n  /* fitted */\n  border: var(--sklearn-color-fitted-level-1) 1pt solid;\n  color: var(--sklearn-color-fitted-level-1);\n}\n\n/* On hover */\n#sk-container-id-1 a.estimator_doc_link:hover {\n  /* unfitted */\n  background-color: var(--sklearn-color-unfitted-level-3);\n  color: var(--sklearn-color-background);\n  text-decoration: none;\n}\n\n#sk-container-id-1 a.estimator_doc_link.fitted:hover {\n  /* fitted */\n  background-color: var(--sklearn-color-fitted-level-3);\n}\n</style><div id=\"sk-container-id-1\" class=\"sk-top-container\"><div class=\"sk-text-repr-fallback\"><pre>XGBRanker(base_score=None, booster=None, callbacks=None, colsample_bylevel=None,\n          colsample_bynode=None, colsample_bytree=None, device=None,\n          early_stopping_rounds=None, enable_categorical=False, eta=0.1,\n          eval_metric=&#x27;ndcg@5&#x27;, feature_types=None, gamma=None,\n          grow_policy=None, importance_type=None, interaction_constraints=None,\n          learning_rate=None, max_bin=None, max_cat_threshold=None,\n          max_cat_to_onehot=None, max_delta_step=None, max_depth=6,\n          max_leaves=None, min_child_weight=None, missing=nan,\n          monotone_constraints=None, multi_strategy=None, n_estimators=None,\n          n_jobs=None, num_parallel_tree=None, ...)</pre><b>In a Jupyter environment, please rerun this cell to show the HTML representation or trust the notebook. <br />On GitHub, the HTML representation is unable to render, please try loading this page with nbviewer.org.</b></div><div class=\"sk-container\" hidden><div class=\"sk-item\"><div class=\"sk-estimator fitted sk-toggleable\"><input class=\"sk-toggleable__control sk-hidden--visually\" id=\"sk-estimator-id-1\" type=\"checkbox\" checked><label for=\"sk-estimator-id-1\" class=\"sk-toggleable__label fitted sk-toggleable__label-arrow fitted\">&nbsp;XGBRanker<span class=\"sk-estimator-doc-link fitted\">i<span>Fitted</span></span></label><div class=\"sk-toggleable__content fitted\"><pre>XGBRanker(base_score=None, booster=None, callbacks=None, colsample_bylevel=None,\n          colsample_bynode=None, colsample_bytree=None, device=None,\n          early_stopping_rounds=None, enable_categorical=False, eta=0.1,\n          eval_metric=&#x27;ndcg@5&#x27;, feature_types=None, gamma=None,\n          grow_policy=None, importance_type=None, interaction_constraints=None,\n          learning_rate=None, max_bin=None, max_cat_threshold=None,\n          max_cat_to_onehot=None, max_delta_step=None, max_depth=6,\n          max_leaves=None, min_child_weight=None, missing=nan,\n          monotone_constraints=None, multi_strategy=None, n_estimators=None,\n          n_jobs=None, num_parallel_tree=None, ...)</pre></div> </div></div></div></div>"
     },
     "execution_count": 3,
     "metadata": {},
     "output_type": "execute_result"
    }
   ],
   "source": [
    "import xgboost as xgb\n",
    "params = {\n",
    "    'tree_method': 'hist',\n",
    "    'objective': 'rank:ndcg',  # Use rank:ndcg for optimizing NDCG\n",
    "    'eval_metric': 'ndcg@5',    # Evaluation metric NDCG@k\n",
    "    'eta': 0.1,                  # Learning rate\n",
    "    'max_depth': 6               # Maximum depth of a tree\n",
    "}\n",
    "\n",
    "# Initialize the XGBRanker with modified parameters\n",
    "model = xgb.XGBRanker(**params)\n",
    "\n",
    "X_train = X_train[['prop_starrating', 'prop_review_score', 'prop_brand_bool', 'prop_location_score1', 'srch_destination_id', 'srch_length_of_stay', 'srch_booking_window',\n",
    "       'srch_adults_count', 'srch_children_count', 'srch_room_count']]\n",
    "y_train = y_train['target_label']\n",
    "model.fit(X_train.to_numpy(), y_train.to_numpy(), qid = groups)"
   ],
   "metadata": {
    "collapsed": false,
    "ExecuteTime": {
     "end_time": "2024-05-09T07:06:00.209637Z",
     "start_time": "2024-05-09T07:05:36.023104Z"
    }
   },
   "id": "a3ffa2b56505e3be"
  },
  {
   "cell_type": "code",
   "execution_count": 4,
   "outputs": [
    {
     "name": "stderr",
     "output_type": "stream",
     "text": [
      "/var/folders/2p/lk_7jyfx52g86tz59mc412p80000gn/T/ipykernel_64748/2952709984.py:4: DeprecationWarning: DataFrameGroupBy.apply operated on the grouping columns. This behavior is deprecated, and in a future version of pandas the grouping columns will be excluded from the operation. Either pass `include_groups=False` to exclude the groupings or explicitly select the grouping columns after groupby to silence this warning.\n",
      "  predictions = (X_test[['prop_starrating', 'prop_review_score', 'prop_brand_bool', 'prop_location_score1', 'srch_destination_id', 'srch_length_of_stay', 'srch_booking_window',\n"
     ]
    }
   ],
   "source": [
    "def predict(model, df):\n",
    "    return model.predict(df.loc[:, ~df.columns.isin(['srch_id'])])\n",
    "\n",
    "predictions = (X_test[['prop_starrating', 'prop_review_score', 'prop_brand_bool', 'prop_location_score1', 'srch_destination_id', 'srch_length_of_stay', 'srch_booking_window',\n",
    "       'srch_adults_count', 'srch_children_count', 'srch_room_count', 'srch_id']].groupby('srch_id')\n",
    "               .apply(lambda x: predict(model, x)))"
   ],
   "metadata": {
    "collapsed": false,
    "ExecuteTime": {
     "end_time": "2024-05-09T07:09:27.294407Z",
     "start_time": "2024-05-09T07:06:42.001413Z"
    }
   },
   "id": "d0f5ff39a35b519b"
  },
  {
   "cell_type": "code",
   "execution_count": 5,
   "outputs": [],
   "source": [
    "grouped = X_test.groupby('srch_id')\n",
    "modified_groups = []\n",
    "\n",
    "for group_name, group_data in grouped:\n",
    "    group_data['predicted_reg'] = predictions[group_name]\n",
    "    modified_groups.append(group_data.copy())\n",
    "modified_df = pd.concat(modified_groups)"
   ],
   "metadata": {
    "collapsed": false,
    "ExecuteTime": {
     "end_time": "2024-05-09T07:10:38.753988Z",
     "start_time": "2024-05-09T07:09:36.200312Z"
    }
   },
   "id": "534092494c865879"
  },
  {
   "cell_type": "code",
   "execution_count": 6,
   "outputs": [
    {
     "data": {
      "text/plain": "         srch_id            date_time  site_id  visitor_location_country_id  \\\n0              1  2013-02-02 15:27:40       24                          216   \n1              1  2013-02-02 15:27:40       24                          216   \n2              1  2013-02-02 15:27:40       24                          216   \n3              1  2013-02-02 15:27:40       24                          216   \n4              1  2013-02-02 15:27:40       24                          216   \n...          ...                  ...      ...                          ...   \n4959178   332787  2013-05-21 11:06:37       24                          216   \n4959179   332787  2013-05-21 11:06:37       24                          216   \n4959180   332787  2013-05-21 11:06:37       24                          216   \n4959181   332787  2013-05-21 11:06:37       24                          216   \n4959182   332787  2013-05-21 11:06:37       24                          216   \n\n         visitor_hist_starrating  visitor_hist_adr_usd  prop_country_id  \\\n0                            NaN                   NaN              219   \n1                            NaN                   NaN              219   \n2                            NaN                   NaN              219   \n3                            NaN                   NaN              219   \n4                            NaN                   NaN              219   \n...                          ...                   ...              ...   \n4959178                      NaN                   NaN              117   \n4959179                      NaN                   NaN              117   \n4959180                      NaN                   NaN              117   \n4959181                      NaN                   NaN              117   \n4959182                      NaN                   NaN              117   \n\n         prop_id  prop_starrating  prop_review_score  ...  comp6_rate  \\\n0           3180                3                4.5  ...         NaN   \n1           5543                3                4.5  ...         NaN   \n2          14142                2                3.5  ...         NaN   \n3          22393                3                4.5  ...         NaN   \n4          24194                3                4.5  ...         NaN   \n...          ...              ...                ...  ...         ...   \n4959178    32019                4                3.5  ...         NaN   \n4959179    33959                4                3.0  ...         NaN   \n4959180    35240                4                0.0  ...         NaN   \n4959181    94437                4                0.0  ...         NaN   \n4959182    99509                4                4.5  ...         NaN   \n\n         comp6_inv  comp6_rate_percent_diff  comp7_rate  comp7_inv  \\\n0              NaN                      NaN         NaN        NaN   \n1              NaN                      NaN         NaN        NaN   \n2              NaN                      NaN         NaN        NaN   \n3              NaN                      NaN         NaN        NaN   \n4              NaN                      NaN         NaN        NaN   \n...            ...                      ...         ...        ...   \n4959178        NaN                      NaN         NaN        NaN   \n4959179        NaN                      NaN         NaN        NaN   \n4959180        NaN                      NaN         NaN        NaN   \n4959181        NaN                      NaN         NaN        NaN   \n4959182        NaN                      NaN         NaN        NaN   \n\n         comp7_rate_percent_diff  comp8_rate  comp8_inv  \\\n0                            NaN         NaN        NaN   \n1                            NaN         NaN        NaN   \n2                            NaN         NaN        NaN   \n3                            NaN         NaN        NaN   \n4                            NaN         NaN        NaN   \n...                          ...         ...        ...   \n4959178                      NaN         NaN        NaN   \n4959179                      NaN         NaN        NaN   \n4959180                      NaN         NaN        NaN   \n4959181                      NaN         NaN        NaN   \n4959182                      NaN         NaN        NaN   \n\n         comp8_rate_percent_diff  predicted_reg  \n0                            NaN       0.279269  \n1                            NaN       0.275957  \n2                            NaN       0.262973  \n3                            NaN       0.275957  \n4                            NaN       0.279269  \n...                          ...            ...  \n4959178                      NaN       0.282280  \n4959179                      NaN       0.285190  \n4959180                      NaN       0.201748  \n4959181                      NaN       0.214772  \n4959182                      NaN       0.276632  \n\n[4959183 rows x 51 columns]",
      "text/html": "<div>\n<style scoped>\n    .dataframe tbody tr th:only-of-type {\n        vertical-align: middle;\n    }\n\n    .dataframe tbody tr th {\n        vertical-align: top;\n    }\n\n    .dataframe thead th {\n        text-align: right;\n    }\n</style>\n<table border=\"1\" class=\"dataframe\">\n  <thead>\n    <tr style=\"text-align: right;\">\n      <th></th>\n      <th>srch_id</th>\n      <th>date_time</th>\n      <th>site_id</th>\n      <th>visitor_location_country_id</th>\n      <th>visitor_hist_starrating</th>\n      <th>visitor_hist_adr_usd</th>\n      <th>prop_country_id</th>\n      <th>prop_id</th>\n      <th>prop_starrating</th>\n      <th>prop_review_score</th>\n      <th>...</th>\n      <th>comp6_rate</th>\n      <th>comp6_inv</th>\n      <th>comp6_rate_percent_diff</th>\n      <th>comp7_rate</th>\n      <th>comp7_inv</th>\n      <th>comp7_rate_percent_diff</th>\n      <th>comp8_rate</th>\n      <th>comp8_inv</th>\n      <th>comp8_rate_percent_diff</th>\n      <th>predicted_reg</th>\n    </tr>\n  </thead>\n  <tbody>\n    <tr>\n      <th>0</th>\n      <td>1</td>\n      <td>2013-02-02 15:27:40</td>\n      <td>24</td>\n      <td>216</td>\n      <td>NaN</td>\n      <td>NaN</td>\n      <td>219</td>\n      <td>3180</td>\n      <td>3</td>\n      <td>4.5</td>\n      <td>...</td>\n      <td>NaN</td>\n      <td>NaN</td>\n      <td>NaN</td>\n      <td>NaN</td>\n      <td>NaN</td>\n      <td>NaN</td>\n      <td>NaN</td>\n      <td>NaN</td>\n      <td>NaN</td>\n      <td>0.279269</td>\n    </tr>\n    <tr>\n      <th>1</th>\n      <td>1</td>\n      <td>2013-02-02 15:27:40</td>\n      <td>24</td>\n      <td>216</td>\n      <td>NaN</td>\n      <td>NaN</td>\n      <td>219</td>\n      <td>5543</td>\n      <td>3</td>\n      <td>4.5</td>\n      <td>...</td>\n      <td>NaN</td>\n      <td>NaN</td>\n      <td>NaN</td>\n      <td>NaN</td>\n      <td>NaN</td>\n      <td>NaN</td>\n      <td>NaN</td>\n      <td>NaN</td>\n      <td>NaN</td>\n      <td>0.275957</td>\n    </tr>\n    <tr>\n      <th>2</th>\n      <td>1</td>\n      <td>2013-02-02 15:27:40</td>\n      <td>24</td>\n      <td>216</td>\n      <td>NaN</td>\n      <td>NaN</td>\n      <td>219</td>\n      <td>14142</td>\n      <td>2</td>\n      <td>3.5</td>\n      <td>...</td>\n      <td>NaN</td>\n      <td>NaN</td>\n      <td>NaN</td>\n      <td>NaN</td>\n      <td>NaN</td>\n      <td>NaN</td>\n      <td>NaN</td>\n      <td>NaN</td>\n      <td>NaN</td>\n      <td>0.262973</td>\n    </tr>\n    <tr>\n      <th>3</th>\n      <td>1</td>\n      <td>2013-02-02 15:27:40</td>\n      <td>24</td>\n      <td>216</td>\n      <td>NaN</td>\n      <td>NaN</td>\n      <td>219</td>\n      <td>22393</td>\n      <td>3</td>\n      <td>4.5</td>\n      <td>...</td>\n      <td>NaN</td>\n      <td>NaN</td>\n      <td>NaN</td>\n      <td>NaN</td>\n      <td>NaN</td>\n      <td>NaN</td>\n      <td>NaN</td>\n      <td>NaN</td>\n      <td>NaN</td>\n      <td>0.275957</td>\n    </tr>\n    <tr>\n      <th>4</th>\n      <td>1</td>\n      <td>2013-02-02 15:27:40</td>\n      <td>24</td>\n      <td>216</td>\n      <td>NaN</td>\n      <td>NaN</td>\n      <td>219</td>\n      <td>24194</td>\n      <td>3</td>\n      <td>4.5</td>\n      <td>...</td>\n      <td>NaN</td>\n      <td>NaN</td>\n      <td>NaN</td>\n      <td>NaN</td>\n      <td>NaN</td>\n      <td>NaN</td>\n      <td>NaN</td>\n      <td>NaN</td>\n      <td>NaN</td>\n      <td>0.279269</td>\n    </tr>\n    <tr>\n      <th>...</th>\n      <td>...</td>\n      <td>...</td>\n      <td>...</td>\n      <td>...</td>\n      <td>...</td>\n      <td>...</td>\n      <td>...</td>\n      <td>...</td>\n      <td>...</td>\n      <td>...</td>\n      <td>...</td>\n      <td>...</td>\n      <td>...</td>\n      <td>...</td>\n      <td>...</td>\n      <td>...</td>\n      <td>...</td>\n      <td>...</td>\n      <td>...</td>\n      <td>...</td>\n      <td>...</td>\n    </tr>\n    <tr>\n      <th>4959178</th>\n      <td>332787</td>\n      <td>2013-05-21 11:06:37</td>\n      <td>24</td>\n      <td>216</td>\n      <td>NaN</td>\n      <td>NaN</td>\n      <td>117</td>\n      <td>32019</td>\n      <td>4</td>\n      <td>3.5</td>\n      <td>...</td>\n      <td>NaN</td>\n      <td>NaN</td>\n      <td>NaN</td>\n      <td>NaN</td>\n      <td>NaN</td>\n      <td>NaN</td>\n      <td>NaN</td>\n      <td>NaN</td>\n      <td>NaN</td>\n      <td>0.282280</td>\n    </tr>\n    <tr>\n      <th>4959179</th>\n      <td>332787</td>\n      <td>2013-05-21 11:06:37</td>\n      <td>24</td>\n      <td>216</td>\n      <td>NaN</td>\n      <td>NaN</td>\n      <td>117</td>\n      <td>33959</td>\n      <td>4</td>\n      <td>3.0</td>\n      <td>...</td>\n      <td>NaN</td>\n      <td>NaN</td>\n      <td>NaN</td>\n      <td>NaN</td>\n      <td>NaN</td>\n      <td>NaN</td>\n      <td>NaN</td>\n      <td>NaN</td>\n      <td>NaN</td>\n      <td>0.285190</td>\n    </tr>\n    <tr>\n      <th>4959180</th>\n      <td>332787</td>\n      <td>2013-05-21 11:06:37</td>\n      <td>24</td>\n      <td>216</td>\n      <td>NaN</td>\n      <td>NaN</td>\n      <td>117</td>\n      <td>35240</td>\n      <td>4</td>\n      <td>0.0</td>\n      <td>...</td>\n      <td>NaN</td>\n      <td>NaN</td>\n      <td>NaN</td>\n      <td>NaN</td>\n      <td>NaN</td>\n      <td>NaN</td>\n      <td>NaN</td>\n      <td>NaN</td>\n      <td>NaN</td>\n      <td>0.201748</td>\n    </tr>\n    <tr>\n      <th>4959181</th>\n      <td>332787</td>\n      <td>2013-05-21 11:06:37</td>\n      <td>24</td>\n      <td>216</td>\n      <td>NaN</td>\n      <td>NaN</td>\n      <td>117</td>\n      <td>94437</td>\n      <td>4</td>\n      <td>0.0</td>\n      <td>...</td>\n      <td>NaN</td>\n      <td>NaN</td>\n      <td>NaN</td>\n      <td>NaN</td>\n      <td>NaN</td>\n      <td>NaN</td>\n      <td>NaN</td>\n      <td>NaN</td>\n      <td>NaN</td>\n      <td>0.214772</td>\n    </tr>\n    <tr>\n      <th>4959182</th>\n      <td>332787</td>\n      <td>2013-05-21 11:06:37</td>\n      <td>24</td>\n      <td>216</td>\n      <td>NaN</td>\n      <td>NaN</td>\n      <td>117</td>\n      <td>99509</td>\n      <td>4</td>\n      <td>4.5</td>\n      <td>...</td>\n      <td>NaN</td>\n      <td>NaN</td>\n      <td>NaN</td>\n      <td>NaN</td>\n      <td>NaN</td>\n      <td>NaN</td>\n      <td>NaN</td>\n      <td>NaN</td>\n      <td>NaN</td>\n      <td>0.276632</td>\n    </tr>\n  </tbody>\n</table>\n<p>4959183 rows × 51 columns</p>\n</div>"
     },
     "execution_count": 6,
     "metadata": {},
     "output_type": "execute_result"
    }
   ],
   "source": [
    "modified_df"
   ],
   "metadata": {
    "collapsed": false,
    "ExecuteTime": {
     "end_time": "2024-05-09T07:10:48.203898Z",
     "start_time": "2024-05-09T07:10:46.711291Z"
    }
   },
   "id": "439004bf198afea9"
  },
  {
   "cell_type": "code",
   "execution_count": 10,
   "outputs": [],
   "source": [
    "result = modified_df.sort_values(by=['srch_id', 'predicted_reg'], ascending=[True, False])\n",
    "result[['srch_id', 'prop_id']].reset_index(drop=True).to_csv(\"dataset/submission3_basic_L2R.csv\", index=False)"
   ],
   "metadata": {
    "collapsed": false,
    "ExecuteTime": {
     "end_time": "2024-05-09T07:19:27.954172Z",
     "start_time": "2024-05-09T07:19:23.392710Z"
    }
   },
   "id": "e80631fb56299abd"
  },
  {
   "cell_type": "code",
   "execution_count": null,
   "outputs": [],
   "source": [],
   "metadata": {
    "collapsed": false
   },
   "id": "9ff1a02cfcfbdf0d"
  }
 ],
 "metadata": {
  "kernelspec": {
   "display_name": "Python 3",
   "language": "python",
   "name": "python3"
  },
  "language_info": {
   "codemirror_mode": {
    "name": "ipython",
    "version": 2
   },
   "file_extension": ".py",
   "mimetype": "text/x-python",
   "name": "python",
   "nbconvert_exporter": "python",
   "pygments_lexer": "ipython2",
   "version": "2.7.6"
  }
 },
 "nbformat": 4,
 "nbformat_minor": 5
}
