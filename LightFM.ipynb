{
 "cells": [
  {
   "cell_type": "code",
   "execution_count": 45,
   "metadata": {},
   "outputs": [],
   "source": [
    "import numpy as np\n",
    "import pandas as pd\n",
    "from lightfm import LightFM\n",
    "from lightfm.data import Dataset\n",
    "\n"
   ]
  },
  {
   "cell_type": "code",
   "execution_count": 46,
   "metadata": {},
   "outputs": [],
   "source": [
    "# Load users with searches and products\n",
    "train = pd.read_csv(\"./dataset/train_LFM.csv\")\n",
    "test = pd.read_csv(\"./dataset/test_LFM.csv\")\n",
    "\n",
    "# Warning, not using relevant information that is relevant only wrt search AND property together such as the distance user-property, or better price than competitor...\n",
    "# Not using: position, price_usd, orig_destination_distance, random_bool, booking_bool, comp_inv, comp_rate_percent_diff, interaction\n",
    "user_src_feats = [\n",
    "    \"site_id\", \"visitor_location_country_id\", \"srch_destination_id\", \n",
    "    \"srch_length_of_stay\", \"srch_adults_count\", \"srch_children_count\", \"srch_room_count\", \n",
    "    \"srch_saturday_night_bool\", #\"srch_query_affinity_score\"\n",
    "    ]\n",
    "prop_feats = [\"prop_country_id\", \"prop_starrating\", \"prop_review_score\", \n",
    "              \"prop_brand_bool\", \"prop_location_score1\", \"prop_location_score2\", \n",
    "              \"prop_log_historical_price\", \"price_usd\", \"promotion_flag\"\n",
    "              ]"
   ]
  },
  {
   "cell_type": "code",
   "execution_count": 47,
   "metadata": {},
   "outputs": [],
   "source": [
    "prop_ids = train[\"prop_id\"].unique()\n",
    "src_ids = train[\"srch_id\"].unique()"
   ]
  },
  {
   "cell_type": "code",
   "execution_count": 48,
   "metadata": {},
   "outputs": [
    {
     "name": "stdout",
     "output_type": "stream",
     "text": [
      "Prop percentage: 0.0%\n",
      "Srch percentage: 0.0%\n"
     ]
    }
   ],
   "source": [
    "prop_features = []\n",
    "src_features = []\n",
    "\n",
    "for idx, prop_id in enumerate(prop_ids[:2000]):\n",
    "    if idx%5000 == 0:\n",
    "        print(\"Prop percentage: \"+str(100*idx/len(prop_ids))+\"%\")\n",
    "\n",
    "    current_prop = train[train[\"prop_id\"] == prop_id]\n",
    "    features = {\n",
    "        \"prop_country_id\" : current_prop[\"prop_country_id\"].mean(),\n",
    "        \"prop_starrating\" : current_prop[\"prop_starrating\"].mean(),\n",
    "        \"prop_review_score\" : current_prop[\"prop_review_score\"].mean() if pd.notnull(current_prop[\"prop_review_score\"].mean()) else train[\"prop_review_score\"].mean(),\n",
    "        \"prop_brand_bool\" : current_prop[\"prop_brand_bool\"].mean(), \n",
    "        \"prop_location_score1\" : current_prop[\"prop_location_score1\"].mean(), \n",
    "        \"prop_location_score2\" : current_prop[\"prop_location_score2\"].mean() if pd.notnull(current_prop[\"prop_location_score2\"].mean()) else train[\"prop_location_score2\"].mean(),\n",
    "        \"prop_log_historical_price\" : current_prop[\"prop_log_historical_price\"].mean(), \n",
    "        \"price_usd\" : current_prop[\"price_usd\"].mean(), \n",
    "        \"promotion_flag\" : current_prop[\"promotion_flag\"].mean()\n",
    "    }\n",
    "    prop_features.append((prop_id, features))\n",
    "    \n",
    "for idx, src_id in enumerate(src_ids[:2000]):\n",
    "    if idx%5000 == 0:\n",
    "        print(\"Srch percentage: \"+str(100*idx/len(src_ids))+\"%\")\n",
    "\n",
    "    current_src = train[train[\"srch_id\"] == src_id]\n",
    "    features = {\n",
    "        \"visitor_location_country_id\" : current_src[\"visitor_location_country_id\"].iloc[0], \n",
    "        \"srch_destination_id\" : current_src[\"srch_destination_id\"].iloc[0],\n",
    "        \"srch_length_of_stay\" : current_src[\"srch_length_of_stay\"].iloc[0], \n",
    "        \"srch_adults_count\" : current_src[\"srch_adults_count\"].iloc[0], \n",
    "        \"srch_children_count\" : current_src[\"srch_children_count\"].iloc[0],\n",
    "        \"srch_room_count\" : current_src[\"srch_room_count\"].iloc[0], \n",
    "        \"srch_saturday_night_bool\" : current_src[\"srch_saturday_night_bool\"].iloc[0], \n",
    "        #\"srch_query_affinity_score\" : current_src[\"srch_query_affinity_score\"].iloc[0] if pd.notnull(current_src[\"srch_query_affinity_score\"].iloc[0]) else current_src[\"srch_query_affinity_score\"].mean()\n",
    "    }\n",
    "    src_features.append((src_id, features))"
   ]
  },
  {
   "cell_type": "code",
   "execution_count": 49,
   "metadata": {},
   "outputs": [],
   "source": [
    "interaction_list = []\n",
    "\n",
    "interaction_df = train.groupby([\"srch_id\", \"prop_id\"])[\"interaction\"].first().reset_index()\n",
    "for tuple in interaction_df.itertuples():\n",
    "    interaction_list.append((tuple.srch_id, tuple.prop_id, tuple.interaction))"
   ]
  },
  {
   "cell_type": "code",
   "execution_count": 50,
   "metadata": {},
   "outputs": [],
   "source": [
    "# Initialize the dataset\n",
    "dataset = Dataset()\n",
    "\n",
    "# Fit the dataset with user and item ids and features\n",
    "dataset.fit(\n",
    "    users=src_ids,\n",
    "    items=prop_ids,\n",
    "    user_features=[\n",
    "        \"visitor_location_country_id\",\n",
    "        \"srch_destination_id\",\n",
    "        \"srch_length_of_stay\",\n",
    "        \"srch_adults_count\",\n",
    "        \"srch_children_count\",\n",
    "        \"srch_room_count\",\n",
    "        \"srch_saturday_night_bool\",\n",
    "        #\"srch_query_affinity_score\",\n",
    "    ],\n",
    "    item_features=[\n",
    "        \"prop_country_id\",\n",
    "        \"prop_starrating\",\n",
    "        \"prop_review_score\",\n",
    "        \"prop_brand_bool\",\n",
    "        \"prop_location_score1\",\n",
    "        \"prop_location_score2\",\n",
    "        \"prop_log_historical_price\",\n",
    "        \"price_usd\",\n",
    "        \"promotion_flag\",\n",
    "    ],\n",
    ")\n",
    "\n",
    "(interactions, interactions_weights) = dataset.build_interactions(interaction_list)\n",
    "src_feat_matrix = dataset.build_user_features(src_features)\n",
    "prop_feat_matrix = dataset.build_item_features(prop_features)\n"
   ]
  },
  {
   "cell_type": "code",
   "execution_count": 51,
   "metadata": {},
   "outputs": [
    {
     "name": "stdout",
     "output_type": "stream",
     "text": [
      "Epoch 0\n",
      "Epoch 1\n",
      "Epoch 2\n",
      "Epoch 3\n",
      "Epoch 4\n",
      "Epoch 5\n",
      "Epoch 6\n",
      "Epoch 7\n",
      "Epoch 8\n",
      "Epoch 9\n",
      "Epoch 10\n",
      "Epoch 11\n",
      "Epoch 12\n",
      "Epoch 13\n",
      "Epoch 14\n",
      "Epoch 15\n",
      "Epoch 16\n",
      "Epoch 17\n",
      "Epoch 18\n",
      "Epoch 19\n",
      "Epoch 20\n",
      "Epoch 21\n",
      "Epoch 22\n",
      "Epoch 23\n",
      "Epoch 24\n",
      "Epoch 25\n",
      "Epoch 26\n",
      "Epoch 27\n",
      "Epoch 28\n",
      "Epoch 29\n"
     ]
    },
    {
     "data": {
      "text/plain": [
       "<lightfm.lightfm.LightFM at 0x10a086e20>"
      ]
     },
     "execution_count": 51,
     "metadata": {},
     "output_type": "execute_result"
    }
   ],
   "source": [
    "# Initialize and train the model\n",
    "latent_feats = 30\n",
    "training_epochs = 30\n",
    "\n",
    "model = LightFM(loss='warp', no_components=latent_feats)\n",
    "model.fit(interactions, user_features=src_feat_matrix, item_features=prop_feat_matrix, epochs=training_epochs, num_threads=8, verbose=True)"
   ]
  },
  {
   "cell_type": "code",
   "execution_count": 53,
   "metadata": {},
   "outputs": [
    {
     "name": "stdout",
     "output_type": "stream",
     "text": [
      "Predicted score for user 1 and item 1: 0.5076165199279785\n"
     ]
    },
    {
     "ename": "KeyboardInterrupt",
     "evalue": "",
     "output_type": "error",
     "traceback": [
      "\u001b[0;31m---------------------------------------------------------------------------\u001b[0m",
      "\u001b[0;31mKeyboardInterrupt\u001b[0m                         Traceback (most recent call last)",
      "Cell \u001b[0;32mIn[53], line 39\u001b[0m\n\u001b[1;32m     36\u001b[0m \u001b[38;5;28mprint\u001b[39m(\u001b[38;5;124mf\u001b[39m\u001b[38;5;124m\"\u001b[39m\u001b[38;5;124mPredicted score for user \u001b[39m\u001b[38;5;132;01m{\u001b[39;00muser_id\u001b[38;5;132;01m}\u001b[39;00m\u001b[38;5;124m and item \u001b[39m\u001b[38;5;132;01m{\u001b[39;00muser_id\u001b[38;5;132;01m}\u001b[39;00m\u001b[38;5;124m: \u001b[39m\u001b[38;5;132;01m{\u001b[39;00mscore[\u001b[38;5;241m0\u001b[39m]\u001b[38;5;132;01m}\u001b[39;00m\u001b[38;5;124m\"\u001b[39m)\n\u001b[1;32m     38\u001b[0m \u001b[38;5;66;03m# Evaluating the model\u001b[39;00m\n\u001b[0;32m---> 39\u001b[0m \u001b[38;5;28;01mfrom\u001b[39;00m \u001b[38;5;21;01mlightfm\u001b[39;00m\u001b[38;5;21;01m.\u001b[39;00m\u001b[38;5;21;01mevaluation\u001b[39;00m \u001b[38;5;28;01mimport\u001b[39;00m precision_at_k, auc_score\n\u001b[1;32m     41\u001b[0m train_precision \u001b[38;5;241m=\u001b[39m precision_at_k(model, interactions, k\u001b[38;5;241m=\u001b[39m\u001b[38;5;241m5\u001b[39m, user_features\u001b[38;5;241m=\u001b[39muser_features_matrix, item_features\u001b[38;5;241m=\u001b[39mitem_features_matrix)\u001b[38;5;241m.\u001b[39mmean()\n\u001b[1;32m     42\u001b[0m train_auc \u001b[38;5;241m=\u001b[39m auc_score(model, interactions, user_features\u001b[38;5;241m=\u001b[39muser_features_matrix, item_features\u001b[38;5;241m=\u001b[39mitem_features_matrix)\u001b[38;5;241m.\u001b[39mmean()\n",
      "Cell \u001b[0;32mIn[53], line 39\u001b[0m\n\u001b[1;32m     36\u001b[0m \u001b[38;5;28mprint\u001b[39m(\u001b[38;5;124mf\u001b[39m\u001b[38;5;124m\"\u001b[39m\u001b[38;5;124mPredicted score for user \u001b[39m\u001b[38;5;132;01m{\u001b[39;00muser_id\u001b[38;5;132;01m}\u001b[39;00m\u001b[38;5;124m and item \u001b[39m\u001b[38;5;132;01m{\u001b[39;00muser_id\u001b[38;5;132;01m}\u001b[39;00m\u001b[38;5;124m: \u001b[39m\u001b[38;5;132;01m{\u001b[39;00mscore[\u001b[38;5;241m0\u001b[39m]\u001b[38;5;132;01m}\u001b[39;00m\u001b[38;5;124m\"\u001b[39m)\n\u001b[1;32m     38\u001b[0m \u001b[38;5;66;03m# Evaluating the model\u001b[39;00m\n\u001b[0;32m---> 39\u001b[0m \u001b[38;5;28;01mfrom\u001b[39;00m \u001b[38;5;21;01mlightfm\u001b[39;00m\u001b[38;5;21;01m.\u001b[39;00m\u001b[38;5;21;01mevaluation\u001b[39;00m \u001b[38;5;28;01mimport\u001b[39;00m precision_at_k, auc_score\n\u001b[1;32m     41\u001b[0m train_precision \u001b[38;5;241m=\u001b[39m precision_at_k(model, interactions, k\u001b[38;5;241m=\u001b[39m\u001b[38;5;241m5\u001b[39m, user_features\u001b[38;5;241m=\u001b[39muser_features_matrix, item_features\u001b[38;5;241m=\u001b[39mitem_features_matrix)\u001b[38;5;241m.\u001b[39mmean()\n\u001b[1;32m     42\u001b[0m train_auc \u001b[38;5;241m=\u001b[39m auc_score(model, interactions, user_features\u001b[38;5;241m=\u001b[39muser_features_matrix, item_features\u001b[38;5;241m=\u001b[39mitem_features_matrix)\u001b[38;5;241m.\u001b[39mmean()\n",
      "File \u001b[0;32m~/.pyenv/versions/3.8.18/lib/python3.8/site-packages/debugpy/_vendored/pydevd/_pydevd_bundle/pydevd_frame.py:1197\u001b[0m, in \u001b[0;36mPyDBFrame.trace_dispatch\u001b[0;34m(self, frame, event, arg)\u001b[0m\n\u001b[1;32m   1195\u001b[0m \u001b[38;5;28;01mif\u001b[39;00m is_line:\n\u001b[1;32m   1196\u001b[0m     \u001b[38;5;28mself\u001b[39m\u001b[38;5;241m.\u001b[39mset_suspend(thread, step_cmd, original_step_cmd\u001b[38;5;241m=\u001b[39minfo\u001b[38;5;241m.\u001b[39mpydev_original_step_cmd)\n\u001b[0;32m-> 1197\u001b[0m     \u001b[38;5;28;43mself\u001b[39;49m\u001b[38;5;241;43m.\u001b[39;49m\u001b[43mdo_wait_suspend\u001b[49m\u001b[43m(\u001b[49m\u001b[43mthread\u001b[49m\u001b[43m,\u001b[49m\u001b[43m \u001b[49m\u001b[43mframe\u001b[49m\u001b[43m,\u001b[49m\u001b[43m \u001b[49m\u001b[43mevent\u001b[49m\u001b[43m,\u001b[49m\u001b[43m \u001b[49m\u001b[43marg\u001b[49m\u001b[43m)\u001b[49m\n\u001b[1;32m   1198\u001b[0m \u001b[38;5;28;01melif\u001b[39;00m is_return:  \u001b[38;5;66;03m# return event\u001b[39;00m\n\u001b[1;32m   1199\u001b[0m     back \u001b[38;5;241m=\u001b[39m frame\u001b[38;5;241m.\u001b[39mf_back\n",
      "File \u001b[0;32m~/.pyenv/versions/3.8.18/lib/python3.8/site-packages/debugpy/_vendored/pydevd/_pydevd_bundle/pydevd_frame.py:165\u001b[0m, in \u001b[0;36mPyDBFrame.do_wait_suspend\u001b[0;34m(self, *args, **kwargs)\u001b[0m\n\u001b[1;32m    164\u001b[0m \u001b[38;5;28;01mdef\u001b[39;00m \u001b[38;5;21mdo_wait_suspend\u001b[39m(\u001b[38;5;28mself\u001b[39m, \u001b[38;5;241m*\u001b[39margs, \u001b[38;5;241m*\u001b[39m\u001b[38;5;241m*\u001b[39mkwargs):\n\u001b[0;32m--> 165\u001b[0m     \u001b[38;5;28;43mself\u001b[39;49m\u001b[38;5;241;43m.\u001b[39;49m\u001b[43m_args\u001b[49m\u001b[43m[\u001b[49m\u001b[38;5;241;43m0\u001b[39;49m\u001b[43m]\u001b[49m\u001b[38;5;241;43m.\u001b[39;49m\u001b[43mdo_wait_suspend\u001b[49m\u001b[43m(\u001b[49m\u001b[38;5;241;43m*\u001b[39;49m\u001b[43margs\u001b[49m\u001b[43m,\u001b[49m\u001b[43m \u001b[49m\u001b[38;5;241;43m*\u001b[39;49m\u001b[38;5;241;43m*\u001b[39;49m\u001b[43mkwargs\u001b[49m\u001b[43m)\u001b[49m\n",
      "File \u001b[0;32m~/.pyenv/versions/3.8.18/lib/python3.8/site-packages/debugpy/_vendored/pydevd/pydevd.py:2070\u001b[0m, in \u001b[0;36mPyDB.do_wait_suspend\u001b[0;34m(self, thread, frame, event, arg, exception_type)\u001b[0m\n\u001b[1;32m   2067\u001b[0m             from_this_thread\u001b[38;5;241m.\u001b[39mappend(frame_custom_thread_id)\n\u001b[1;32m   2069\u001b[0m     \u001b[38;5;28;01mwith\u001b[39;00m \u001b[38;5;28mself\u001b[39m\u001b[38;5;241m.\u001b[39m_threads_suspended_single_notification\u001b[38;5;241m.\u001b[39mnotify_thread_suspended(thread_id, thread, stop_reason):\n\u001b[0;32m-> 2070\u001b[0m         keep_suspended \u001b[38;5;241m=\u001b[39m \u001b[38;5;28;43mself\u001b[39;49m\u001b[38;5;241;43m.\u001b[39;49m\u001b[43m_do_wait_suspend\u001b[49m\u001b[43m(\u001b[49m\u001b[43mthread\u001b[49m\u001b[43m,\u001b[49m\u001b[43m \u001b[49m\u001b[43mframe\u001b[49m\u001b[43m,\u001b[49m\u001b[43m \u001b[49m\u001b[43mevent\u001b[49m\u001b[43m,\u001b[49m\u001b[43m \u001b[49m\u001b[43marg\u001b[49m\u001b[43m,\u001b[49m\u001b[43m \u001b[49m\u001b[43msuspend_type\u001b[49m\u001b[43m,\u001b[49m\u001b[43m \u001b[49m\u001b[43mfrom_this_thread\u001b[49m\u001b[43m,\u001b[49m\u001b[43m \u001b[49m\u001b[43mframes_tracker\u001b[49m\u001b[43m)\u001b[49m\n\u001b[1;32m   2072\u001b[0m frames_list \u001b[38;5;241m=\u001b[39m \u001b[38;5;28;01mNone\u001b[39;00m\n\u001b[1;32m   2074\u001b[0m \u001b[38;5;28;01mif\u001b[39;00m keep_suspended:\n\u001b[1;32m   2075\u001b[0m     \u001b[38;5;66;03m# This means that we should pause again after a set next statement.\u001b[39;00m\n",
      "File \u001b[0;32m~/.pyenv/versions/3.8.18/lib/python3.8/site-packages/debugpy/_vendored/pydevd/pydevd.py:2106\u001b[0m, in \u001b[0;36mPyDB._do_wait_suspend\u001b[0;34m(self, thread, frame, event, arg, suspend_type, from_this_thread, frames_tracker)\u001b[0m\n\u001b[1;32m   2103\u001b[0m         \u001b[38;5;28mself\u001b[39m\u001b[38;5;241m.\u001b[39m_call_input_hook()\n\u001b[1;32m   2105\u001b[0m     \u001b[38;5;28mself\u001b[39m\u001b[38;5;241m.\u001b[39mprocess_internal_commands()\n\u001b[0;32m-> 2106\u001b[0m     \u001b[43mtime\u001b[49m\u001b[38;5;241;43m.\u001b[39;49m\u001b[43msleep\u001b[49m\u001b[43m(\u001b[49m\u001b[38;5;241;43m0.01\u001b[39;49m\u001b[43m)\u001b[49m\n\u001b[1;32m   2108\u001b[0m \u001b[38;5;28mself\u001b[39m\u001b[38;5;241m.\u001b[39mcancel_async_evaluation(get_current_thread_id(thread), \u001b[38;5;28mstr\u001b[39m(\u001b[38;5;28mid\u001b[39m(frame)))\n\u001b[1;32m   2110\u001b[0m \u001b[38;5;66;03m# process any stepping instructions\u001b[39;00m\n",
      "\u001b[0;31mKeyboardInterrupt\u001b[0m: "
     ]
    }
   ],
   "source": [
    "from scipy.sparse import csr_matrix\n",
    "\n",
    "# Predicting the score for a user-item pair\n",
    "user_id = 1\n",
    "prop_id = 3309\n",
    "\n",
    "user_feats = None\n",
    "for key, val in src_features:\n",
    "    if key == user_id:\n",
    "        user_feats = list(val.values())\n",
    "        break\n",
    "\n",
    "prop_feats = None\n",
    "for key, val in prop_features:\n",
    "    if key == prop_id:\n",
    "        prop_feats = list(val.values())\n",
    "        break\n",
    "\n",
    "# Convert feature lists to sparse matrices\n",
    "# user_feats_matrix = csr_matrix(user_feats).reshape(1, -1)\n",
    "# prop_feats_matrix = csr_matrix(prop_feats).reshape(1, -1)\n",
    "\n",
    "current_user_feats = [user_id, {\n",
    "        \"visitor_location_country_id\":user_feats[0],\n",
    "        \"srch_destination_id\":user_feats[1],\n",
    "        \"srch_length_of_stay\":user_feats[2],\n",
    "        \"srch_adults_count\":user_feats[3],\n",
    "        \"srch_children_count\":user_feats[4],\n",
    "        \"srch_room_count\":user_feats[5],\n",
    "        \"srch_saturday_night_bool\":user_feats[6],\n",
    "        #\"srch_query_affinity_score\",\n",
    "    }]\n",
    "current_user_feats = dataset.build_user_features([current_user_feats])\n",
    "\n",
    "score = model.predict(user_ids=np.array([user_id]), item_ids=np.array([prop_id]), user_features=current_user_feats)\n",
    "print(f\"Predicted score for user {user_id} and item {user_id}: {score[0]}\")\n",
    "\n",
    "# Evaluating the model\n",
    "from lightfm.evaluation import precision_at_k, auc_score\n",
    "\n",
    "train_precision = precision_at_k(model, interactions, k=5, user_features=user_features_matrix, item_features=item_features_matrix).mean()\n",
    "train_auc = auc_score(model, interactions, user_features=user_features_matrix, item_features=item_features_matrix).mean()\n",
    "\n",
    "print(f'Train precision at k: {train_precision:.2f}')\n",
    "print(f'Train AUC score: {train_auc:.2f}')\n"
   ]
  }
 ],
 "metadata": {
  "kernelspec": {
   "display_name": "Python 3",
   "language": "python",
   "name": "python3"
  },
  "language_info": {
   "codemirror_mode": {
    "name": "ipython",
    "version": 3
   },
   "file_extension": ".py",
   "mimetype": "text/x-python",
   "name": "python",
   "nbconvert_exporter": "python",
   "pygments_lexer": "ipython3",
   "version": "3.8.18"
  }
 },
 "nbformat": 4,
 "nbformat_minor": 2
}
