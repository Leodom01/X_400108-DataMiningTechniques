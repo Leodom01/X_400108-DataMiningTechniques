{
 "cells": [
  {
   "cell_type": "code",
   "execution_count": 5,
   "metadata": {},
   "outputs": [],
   "source": [
    "import numpy as np\n",
    "import pandas as pd\n",
    "from lightfm import LightFM\n",
    "from lightfm.data import Dataset\n",
    "\n",
    "# Example data\n",
    "users = [1, 2, 3, 4]\n",
    "items = [1, 2, 3, 4, 5]\n",
    "interactions = [\n",
    "    (1, 1),\n",
    "    (1, 2),\n",
    "    (2, 2),\n",
    "    (2, 3),\n",
    "    (3, 3),\n",
    "    (3, 4),\n",
    "    (4, 4),\n",
    "    (4, 5)\n",
    "]\n",
    "\n",
    "user_features = {\n",
    "    1: [0, 1],  # User 1 has features 0 and 1\n",
    "    2: [1, 2],  # User 2 has features 1 and 2\n",
    "    3: [0, 2],  # User 3 has features 0 and 2\n",
    "    4: [1, 3]   # User 4 has features 1 and 3\n",
    "}\n",
    "\n",
    "item_features = {\n",
    "    1: [0, 1],  # Item 1 has features 0 and 1\n",
    "    2: [1],     # Item 2 has feature 1\n",
    "    3: [2],     # Item 3 has feature 2\n",
    "    4: [0, 2],  # Item 4 has features 0 and 2\n",
    "    5: [1, 3]   # Item 5 has features 1 and 3\n",
    "}\n",
    "\n",
    "# Convert the features to the appropriate format\n",
    "user_features_list = [(user, [f\"feature_{f}\" for f in features]) for user, features in user_features.items()]\n",
    "item_features_list = [(item, [f\"feature_{f}\" for f in features]) for item, features in item_features.items()]\n"
   ]
  },
  {
   "cell_type": "code",
   "execution_count": 6,
   "metadata": {},
   "outputs": [],
   "source": [
    "# Initialize the dataset\n",
    "dataset = Dataset()\n",
    "\n",
    "# Fit the dataset with user and item ids and features\n",
    "dataset.fit(\n",
    "    users=users,\n",
    "    items=items,\n",
    "    user_features=[f\"feature_{f}\" for f in range(4)],\n",
    "    item_features=[f\"feature_{f}\" for f in range(4)]\n",
    ")\n"
   ]
  },
  {
   "cell_type": "code",
   "execution_count": 7,
   "metadata": {},
   "outputs": [],
   "source": [
    "# Build the interactions matrix\n",
    "(interactions, weights) = dataset.build_interactions(interactions)\n",
    "\n",
    "# Build the user and item features matrices\n",
    "user_features_matrix = dataset.build_user_features(user_features_list)\n",
    "item_features_matrix = dataset.build_item_features(item_features_list)\n"
   ]
  },
  {
   "cell_type": "code",
   "execution_count": 11,
   "metadata": {},
   "outputs": [
    {
     "data": {
      "text/plain": [
       "<lightfm.lightfm.LightFM at 0x160ed3580>"
      ]
     },
     "execution_count": 11,
     "metadata": {},
     "output_type": "execute_result"
    }
   ],
   "source": [
    "# Initialize and train the model\n",
    "latent_feats = 10\n",
    "training_epochs = 30\n",
    "\n",
    "model = LightFM(loss='warp', no_components=latent_feats)\n",
    "model.fit(interactions, user_features=user_features_matrix, item_features=item_features_matrix, epochs=training_epochs, num_threads=8)\n"
   ]
  },
  {
   "cell_type": "code",
   "execution_count": 12,
   "metadata": {},
   "outputs": [
    {
     "name": "stdout",
     "output_type": "stream",
     "text": [
      "Predicted score for user 1 and item 3: -0.6869043111801147\n",
      "Train precision at k: 0.40\n",
      "Train AUC score: 0.62\n"
     ]
    }
   ],
   "source": [
    "# Predicting the score for a user-item pair\n",
    "user_id = 1\n",
    "item_id = 3\n",
    "score = model.predict(np.array([user_id]), np.array([item_id]), user_features=user_features_matrix, item_features=item_features_matrix)\n",
    "print(f\"Predicted score for user {user_id} and item {item_id}: {score[0]}\")\n",
    "\n",
    "# Evaluating the model\n",
    "from lightfm.evaluation import precision_at_k, auc_score\n",
    "\n",
    "train_precision = precision_at_k(model, interactions, k=5, user_features=user_features_matrix, item_features=item_features_matrix).mean()\n",
    "train_auc = auc_score(model, interactions, user_features=user_features_matrix, item_features=item_features_matrix).mean()\n",
    "\n",
    "print(f'Train precision at k: {train_precision:.2f}')\n",
    "print(f'Train AUC score: {train_auc:.2f}')\n"
   ]
  }
 ],
 "metadata": {
  "kernelspec": {
   "display_name": "Python 3",
   "language": "python",
   "name": "python3"
  },
  "language_info": {
   "codemirror_mode": {
    "name": "ipython",
    "version": 3
   },
   "file_extension": ".py",
   "mimetype": "text/x-python",
   "name": "python",
   "nbconvert_exporter": "python",
   "pygments_lexer": "ipython3",
   "version": "3.8.18"
  }
 },
 "nbformat": 4,
 "nbformat_minor": 2
}
