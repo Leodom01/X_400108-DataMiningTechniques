{
 "cells": [
  {
   "cell_type": "code",
   "execution_count": 1,
   "id": "initial_id",
   "metadata": {
    "collapsed": true,
    "ExecuteTime": {
     "end_time": "2024-05-16T08:04:22.089932Z",
     "start_time": "2024-05-16T08:03:57.128784Z"
    }
   },
   "outputs": [],
   "source": [
    "import pandas as pd\n",
    "import numpy as np\n",
    "import seaborn as sns\n",
    "import matplotlib.pyplot as plt\n",
    "import warnings\n",
    "warnings.filterwarnings('ignore')\n",
    "\n",
    "df = pd.read_csv('./dataset/training_set_VU_DM.csv')\n",
    "df_test = pd.read_csv('./dataset/test_set_VU_DM.csv')"
   ]
  },
  {
   "cell_type": "markdown",
   "source": [
    "# Dropping columns \n",
    "For starters, we can drop columns that do not provide valuable information or are missing a lot of values\n",
    "\n",
    "- Dropping the different company attribute since the majority of the values are missing, and they seem to provide little information (the only thing that comes to mind perhaps is if someone visits expedia, therefore, they trust the brand more, and thus seeing them having more expensive options would not change their mind... WAY too hard to capture... perhaps better to drop for now)\n",
    "- date_time: since no one cares about when search took place (might matter in some cases like trends and seasonality but will be also extremely hard to do)\n",
    "- gross_booking: since  our model should not care about how much they spent on the hotel, and only if they purchase or not\n",
    "- click_bool, booking_book: transformed into a relevant target_bool column\n",
    "- srch_affinity_score: I do not understand this attribute or how it's supposed to be relevant. Will remove now, revisit late \n",
    "- srch_booking_window: Irrelevant for ranking\n",
    "- prop_location_score2: missing 22%, seems very valuable, find suitable imputation method\n",
    "- 'orig_destination_distance', 'srch_query_affinity_score': LOTS of missing values, Might impute later to test\n",
    "- random_bool: an interesting attribute but fail to see its relevance, will revisit!"
   ],
   "metadata": {
    "collapsed": false
   },
   "id": "9e43ff794c8d2a60"
  },
  {
   "cell_type": "code",
   "execution_count": 2,
   "outputs": [],
   "source": [
    "drop_columns_train = ['date_time', 'site_id', 'comp1_rate', 'comp1_inv',\n",
    "       'comp1_rate_percent_diff', 'comp2_rate', 'comp2_inv',\n",
    "       'comp2_rate_percent_diff', 'comp3_rate', 'comp3_inv',\n",
    "       'comp3_rate_percent_diff', 'comp4_rate', 'comp4_inv',\n",
    "       'comp4_rate_percent_diff', 'comp5_rate', 'comp5_inv',\n",
    "       'comp5_rate_percent_diff', 'comp6_rate', 'comp6_inv',\n",
    "       'comp6_rate_percent_diff', 'comp7_rate', 'comp7_inv',\n",
    "       'comp7_rate_percent_diff', 'comp8_rate', 'comp8_inv',\n",
    "       'comp8_rate_percent_diff', 'click_bool', 'booking_bool', 'gross_bookings_usd', 'orig_destination_distance', 'random_bool']\n",
    "\n",
    "drop_columns_test = ['date_time', 'site_id', 'comp1_rate', 'comp1_inv',\n",
    "       'comp1_rate_percent_diff', 'comp2_rate', 'comp2_inv',\n",
    "       'comp2_rate_percent_diff', 'comp3_rate', 'comp3_inv',\n",
    "       'comp3_rate_percent_diff', 'comp4_rate', 'comp4_inv',\n",
    "       'comp4_rate_percent_diff', 'comp5_rate', 'comp5_inv',\n",
    "       'comp5_rate_percent_diff', 'comp6_rate', 'comp6_inv',\n",
    "       'comp6_rate_percent_diff', 'comp7_rate', 'comp7_inv',\n",
    "       'comp7_rate_percent_diff', 'comp8_rate', 'comp8_inv',\n",
    "       'comp8_rate_percent_diff', 'orig_destination_distance', 'random_bool']\n",
    "\n",
    "df.drop(columns=drop_columns_train, inplace=True)\n",
    "df_test.drop(columns=drop_columns_test, inplace=True)"
   ],
   "metadata": {
    "collapsed": false,
    "ExecuteTime": {
     "end_time": "2024-05-16T08:04:25.867553Z",
     "start_time": "2024-05-16T08:04:24.930756Z"
    }
   },
   "id": "699f5df1041bf669"
  },
  {
   "cell_type": "markdown",
   "source": [
    "# Experimenting with imputation\n",
    "User history rating, THE majority is null. Use mean imputation to fill these values. The idea is that the majority of the people will not rate too high or too low. \n",
    "Another approache besides mean imputation is to learn the distribution of the data (for example normal distribution for the average rating) and impute based on that, so it would retain it's normal distribution.... "
   ],
   "metadata": {
    "collapsed": false
   },
   "id": "55ead9066b36ecd0"
  },
  {
   "cell_type": "code",
   "execution_count": 3,
   "outputs": [],
   "source": [
    "# for column in ['visitor_hist_starrating', 'visitor_hist_adr_usd', 'prop_review_score']:\n",
    "#     mean_value = df[column].mean()\n",
    "#     df[column].fillna(mean_value, inplace=True)\n",
    "# \n",
    "# for column in ['visitor_hist_starrating', 'visitor_hist_adr_usd', 'prop_review_score']:\n",
    "#     mean_value = df_test[column].mean()\n",
    "#     df_test[column].fillna(mean_value, inplace=True)"
   ],
   "metadata": {
    "collapsed": false,
    "ExecuteTime": {
     "end_time": "2024-05-16T08:04:52.303091Z",
     "start_time": "2024-05-16T08:04:52.288358Z"
    }
   },
   "id": "4da0439aacff9871"
  },
  {
   "cell_type": "markdown",
   "source": [
    "# Normalization"
   ],
   "metadata": {
    "collapsed": false
   },
   "id": "8f3b938d7a47aa84"
  },
  {
   "cell_type": "code",
   "execution_count": null,
   "outputs": [],
   "source": [],
   "metadata": {
    "collapsed": false
   },
   "id": "e878e4c17ddeb19b"
  },
  {
   "cell_type": "markdown",
   "source": [
    "# Removing the unique identifiers"
   ],
   "metadata": {
    "collapsed": false
   },
   "id": "75e82f1dd2013396"
  },
  {
   "cell_type": "code",
   "execution_count": null,
   "outputs": [],
   "source": [
    "unique_ids = ['visitor_location_country_id', 'srch_destination_id']\n",
    "\n",
    "df.drop(columns=unique_ids, inplace=True)\n",
    "df_test.drop(columns=unique_ids, inplace=True)\n",
    "\n",
    "df.to_csv(\"./dataset/train_clean_v1_noIDs.csv\", index=False)\n",
    "df_test.to_csv(\"./dataset/test_clean_v1_noIDs.csv\", index=False)"
   ],
   "metadata": {
    "collapsed": false
   },
   "id": "7e9d97a7a0496444"
  },
  {
   "cell_type": "markdown",
   "source": [
    "# Aggregated features "
   ],
   "metadata": {
    "collapsed": false
   },
   "id": "1789bed1650c3aa7"
  },
  {
   "cell_type": "code",
   "execution_count": 4,
   "outputs": [
    {
     "data": {
      "text/plain": "         srch_id  visitor_location_country_id  visitor_hist_starrating  \\\n0              1                          216                      NaN   \n1              1                          216                      NaN   \n2              1                          216                      NaN   \n3              1                          216                      NaN   \n4              1                          216                      NaN   \n...          ...                          ...                      ...   \n4959178   332787                          216                      NaN   \n4959179   332787                          216                      NaN   \n4959180   332787                          216                      NaN   \n4959181   332787                          216                      NaN   \n4959182   332787                          216                      NaN   \n\n         visitor_hist_adr_usd  prop_country_id  prop_id  prop_starrating  \\\n0                         NaN              219     3180                3   \n1                         NaN              219     5543                3   \n2                         NaN              219    14142                2   \n3                         NaN              219    22393                3   \n4                         NaN              219    24194                3   \n...                       ...              ...      ...              ...   \n4959178                   NaN              117    32019                4   \n4959179                   NaN              117    33959                4   \n4959180                   NaN              117    35240                4   \n4959181                   NaN              117    94437                4   \n4959182                   NaN              117    99509                4   \n\n         prop_review_score  prop_brand_bool  prop_location_score1  ...  \\\n0                      4.5                1                  2.94  ...   \n1                      4.5                1                  2.64  ...   \n2                      3.5                1                  2.71  ...   \n3                      4.5                1                  2.40  ...   \n4                      4.5                1                  2.94  ...   \n...                    ...              ...                   ...  ...   \n4959178                3.5                0                  2.48  ...   \n4959179                3.0                1                  2.20  ...   \n4959180                0.0                0                  1.79  ...   \n4959181                0.0                0                  2.94  ...   \n4959182                4.5                1                  2.08  ...   \n\n         srch_destination_id  srch_length_of_stay  srch_booking_window  \\\n0                      19222                    1                   10   \n1                      19222                    1                   10   \n2                      19222                    1                   10   \n3                      19222                    1                   10   \n4                      19222                    1                   10   \n...                      ...                  ...                  ...   \n4959178                19246                    2                    7   \n4959179                19246                    2                    7   \n4959180                19246                    2                    7   \n4959181                19246                    2                    7   \n4959182                19246                    2                    7   \n\n         srch_adults_count  srch_children_count  srch_room_count  \\\n0                        2                    0                1   \n1                        2                    0                1   \n2                        2                    0                1   \n3                        2                    0                1   \n4                        2                    0                1   \n...                    ...                  ...              ...   \n4959178                  1                    0                1   \n4959179                  1                    0                1   \n4959180                  1                    0                1   \n4959181                  1                    0                1   \n4959182                  1                    0                1   \n\n         srch_saturday_night_bool  srch_query_affinity_score  \\\n0                               0                        NaN   \n1                               0                        NaN   \n2                               0                        NaN   \n3                               0                        NaN   \n4                               0                        NaN   \n...                           ...                        ...   \n4959178                         0                        NaN   \n4959179                         0                        NaN   \n4959180                         0                        NaN   \n4959181                         0                        NaN   \n4959182                         0                        NaN   \n\n         MEAN(prop_id, price_usd)  SUBSTRACT(price_usd, MEAN)  \n0                      125.520757                   -6.520757  \n1                      117.532579                    0.467421  \n2                       51.886600                   -2.886600  \n3                      133.987619                    9.012381  \n4                       86.308224                   -7.308224  \n...                           ...                         ...  \n4959178                 62.260769                    3.809231  \n4959179                 63.847692                    3.252308  \n4959180                 62.955000                   10.955000  \n4959181                 64.810000                    1.260000  \n4959182                 82.265833                   -0.205833  \n\n[4959183 rows x 24 columns]",
      "text/html": "<div>\n<style scoped>\n    .dataframe tbody tr th:only-of-type {\n        vertical-align: middle;\n    }\n\n    .dataframe tbody tr th {\n        vertical-align: top;\n    }\n\n    .dataframe thead th {\n        text-align: right;\n    }\n</style>\n<table border=\"1\" class=\"dataframe\">\n  <thead>\n    <tr style=\"text-align: right;\">\n      <th></th>\n      <th>srch_id</th>\n      <th>visitor_location_country_id</th>\n      <th>visitor_hist_starrating</th>\n      <th>visitor_hist_adr_usd</th>\n      <th>prop_country_id</th>\n      <th>prop_id</th>\n      <th>prop_starrating</th>\n      <th>prop_review_score</th>\n      <th>prop_brand_bool</th>\n      <th>prop_location_score1</th>\n      <th>...</th>\n      <th>srch_destination_id</th>\n      <th>srch_length_of_stay</th>\n      <th>srch_booking_window</th>\n      <th>srch_adults_count</th>\n      <th>srch_children_count</th>\n      <th>srch_room_count</th>\n      <th>srch_saturday_night_bool</th>\n      <th>srch_query_affinity_score</th>\n      <th>MEAN(prop_id, price_usd)</th>\n      <th>SUBSTRACT(price_usd, MEAN)</th>\n    </tr>\n  </thead>\n  <tbody>\n    <tr>\n      <th>0</th>\n      <td>1</td>\n      <td>216</td>\n      <td>NaN</td>\n      <td>NaN</td>\n      <td>219</td>\n      <td>3180</td>\n      <td>3</td>\n      <td>4.5</td>\n      <td>1</td>\n      <td>2.94</td>\n      <td>...</td>\n      <td>19222</td>\n      <td>1</td>\n      <td>10</td>\n      <td>2</td>\n      <td>0</td>\n      <td>1</td>\n      <td>0</td>\n      <td>NaN</td>\n      <td>125.520757</td>\n      <td>-6.520757</td>\n    </tr>\n    <tr>\n      <th>1</th>\n      <td>1</td>\n      <td>216</td>\n      <td>NaN</td>\n      <td>NaN</td>\n      <td>219</td>\n      <td>5543</td>\n      <td>3</td>\n      <td>4.5</td>\n      <td>1</td>\n      <td>2.64</td>\n      <td>...</td>\n      <td>19222</td>\n      <td>1</td>\n      <td>10</td>\n      <td>2</td>\n      <td>0</td>\n      <td>1</td>\n      <td>0</td>\n      <td>NaN</td>\n      <td>117.532579</td>\n      <td>0.467421</td>\n    </tr>\n    <tr>\n      <th>2</th>\n      <td>1</td>\n      <td>216</td>\n      <td>NaN</td>\n      <td>NaN</td>\n      <td>219</td>\n      <td>14142</td>\n      <td>2</td>\n      <td>3.5</td>\n      <td>1</td>\n      <td>2.71</td>\n      <td>...</td>\n      <td>19222</td>\n      <td>1</td>\n      <td>10</td>\n      <td>2</td>\n      <td>0</td>\n      <td>1</td>\n      <td>0</td>\n      <td>NaN</td>\n      <td>51.886600</td>\n      <td>-2.886600</td>\n    </tr>\n    <tr>\n      <th>3</th>\n      <td>1</td>\n      <td>216</td>\n      <td>NaN</td>\n      <td>NaN</td>\n      <td>219</td>\n      <td>22393</td>\n      <td>3</td>\n      <td>4.5</td>\n      <td>1</td>\n      <td>2.40</td>\n      <td>...</td>\n      <td>19222</td>\n      <td>1</td>\n      <td>10</td>\n      <td>2</td>\n      <td>0</td>\n      <td>1</td>\n      <td>0</td>\n      <td>NaN</td>\n      <td>133.987619</td>\n      <td>9.012381</td>\n    </tr>\n    <tr>\n      <th>4</th>\n      <td>1</td>\n      <td>216</td>\n      <td>NaN</td>\n      <td>NaN</td>\n      <td>219</td>\n      <td>24194</td>\n      <td>3</td>\n      <td>4.5</td>\n      <td>1</td>\n      <td>2.94</td>\n      <td>...</td>\n      <td>19222</td>\n      <td>1</td>\n      <td>10</td>\n      <td>2</td>\n      <td>0</td>\n      <td>1</td>\n      <td>0</td>\n      <td>NaN</td>\n      <td>86.308224</td>\n      <td>-7.308224</td>\n    </tr>\n    <tr>\n      <th>...</th>\n      <td>...</td>\n      <td>...</td>\n      <td>...</td>\n      <td>...</td>\n      <td>...</td>\n      <td>...</td>\n      <td>...</td>\n      <td>...</td>\n      <td>...</td>\n      <td>...</td>\n      <td>...</td>\n      <td>...</td>\n      <td>...</td>\n      <td>...</td>\n      <td>...</td>\n      <td>...</td>\n      <td>...</td>\n      <td>...</td>\n      <td>...</td>\n      <td>...</td>\n      <td>...</td>\n    </tr>\n    <tr>\n      <th>4959178</th>\n      <td>332787</td>\n      <td>216</td>\n      <td>NaN</td>\n      <td>NaN</td>\n      <td>117</td>\n      <td>32019</td>\n      <td>4</td>\n      <td>3.5</td>\n      <td>0</td>\n      <td>2.48</td>\n      <td>...</td>\n      <td>19246</td>\n      <td>2</td>\n      <td>7</td>\n      <td>1</td>\n      <td>0</td>\n      <td>1</td>\n      <td>0</td>\n      <td>NaN</td>\n      <td>62.260769</td>\n      <td>3.809231</td>\n    </tr>\n    <tr>\n      <th>4959179</th>\n      <td>332787</td>\n      <td>216</td>\n      <td>NaN</td>\n      <td>NaN</td>\n      <td>117</td>\n      <td>33959</td>\n      <td>4</td>\n      <td>3.0</td>\n      <td>1</td>\n      <td>2.20</td>\n      <td>...</td>\n      <td>19246</td>\n      <td>2</td>\n      <td>7</td>\n      <td>1</td>\n      <td>0</td>\n      <td>1</td>\n      <td>0</td>\n      <td>NaN</td>\n      <td>63.847692</td>\n      <td>3.252308</td>\n    </tr>\n    <tr>\n      <th>4959180</th>\n      <td>332787</td>\n      <td>216</td>\n      <td>NaN</td>\n      <td>NaN</td>\n      <td>117</td>\n      <td>35240</td>\n      <td>4</td>\n      <td>0.0</td>\n      <td>0</td>\n      <td>1.79</td>\n      <td>...</td>\n      <td>19246</td>\n      <td>2</td>\n      <td>7</td>\n      <td>1</td>\n      <td>0</td>\n      <td>1</td>\n      <td>0</td>\n      <td>NaN</td>\n      <td>62.955000</td>\n      <td>10.955000</td>\n    </tr>\n    <tr>\n      <th>4959181</th>\n      <td>332787</td>\n      <td>216</td>\n      <td>NaN</td>\n      <td>NaN</td>\n      <td>117</td>\n      <td>94437</td>\n      <td>4</td>\n      <td>0.0</td>\n      <td>0</td>\n      <td>2.94</td>\n      <td>...</td>\n      <td>19246</td>\n      <td>2</td>\n      <td>7</td>\n      <td>1</td>\n      <td>0</td>\n      <td>1</td>\n      <td>0</td>\n      <td>NaN</td>\n      <td>64.810000</td>\n      <td>1.260000</td>\n    </tr>\n    <tr>\n      <th>4959182</th>\n      <td>332787</td>\n      <td>216</td>\n      <td>NaN</td>\n      <td>NaN</td>\n      <td>117</td>\n      <td>99509</td>\n      <td>4</td>\n      <td>4.5</td>\n      <td>1</td>\n      <td>2.08</td>\n      <td>...</td>\n      <td>19246</td>\n      <td>2</td>\n      <td>7</td>\n      <td>1</td>\n      <td>0</td>\n      <td>1</td>\n      <td>0</td>\n      <td>NaN</td>\n      <td>82.265833</td>\n      <td>-0.205833</td>\n    </tr>\n  </tbody>\n</table>\n<p>4959183 rows × 24 columns</p>\n</div>"
     },
     "execution_count": 4,
     "metadata": {},
     "output_type": "execute_result"
    }
   ],
   "source": [
    "def aggregated_features_single_column(\n",
    "    in_data,\n",
    "    key_for_grouped_by=\"prop_id\",\n",
    "    target_column=\"price_usd\",\n",
    "    agg_methods=[\"mean\", \"median\", \"min\", \"max\"],\n",
    "    transform_methods={\"mean\": [\"substract\"]},\n",
    "):\n",
    "    df = in_data.groupby(key_for_grouped_by).agg({target_column: agg_methods})\n",
    "\n",
    "    if isinstance(key_for_grouped_by, list):\n",
    "        str_key_for_grouped_by = \"|\".join(key_for_grouped_by)\n",
    "    else:\n",
    "        str_key_for_grouped_by = key_for_grouped_by\n",
    "\n",
    "    df.columns = df.columns.droplevel()\n",
    "    col = {}\n",
    "    for method in agg_methods:\n",
    "        col[method] = (\n",
    "            method.upper() + \"(\" + str_key_for_grouped_by + \", \" + target_column + \")\"\n",
    "        )\n",
    "\n",
    "    df.rename(columns=col, inplace=True)\n",
    "\n",
    "    in_data = in_data.merge(df.reset_index(), on=key_for_grouped_by)\n",
    "    for method_name in transform_methods:\n",
    "        for applying_function in transform_methods[method_name]:\n",
    "            function_data = in_data[\n",
    "                method_name.upper()\n",
    "                + \"(\"\n",
    "                + str_key_for_grouped_by\n",
    "                + \", \"\n",
    "                + target_column\n",
    "                + \")\"\n",
    "            ]\n",
    "            column_data = in_data[target_column]\n",
    "            if applying_function == \"substract\":\n",
    "                result = column_data - function_data\n",
    "            elif applying_function == \"divide\":\n",
    "                result = column_data / function_data\n",
    "            else:\n",
    "                continue\n",
    "            in_data[\n",
    "                applying_function.upper()\n",
    "                + \"(\"\n",
    "                + target_column\n",
    "                + \", \"\n",
    "                + method_name.upper()\n",
    "                + \")\"\n",
    "            ] = result\n",
    "    return in_data\n",
    "\n",
    "data_for_training = aggregated_features_single_column(\n",
    "        df, \"prop_id\", \"price_usd\", [\"mean\"]\n",
    "    )\n",
    "data_for_testing = aggregated_features_single_column(\n",
    "        df_test, \"prop_id\", \"price_usd\", [\"mean\"]\n",
    "    )\n",
    "data_for_testing"
   ],
   "metadata": {
    "collapsed": false,
    "ExecuteTime": {
     "end_time": "2024-05-16T08:06:09.205501Z",
     "start_time": "2024-05-16T08:06:06.125985Z"
    }
   },
   "id": "1dfb749ba1071817"
  },
  {
   "cell_type": "markdown",
   "source": [
    "# Data output"
   ],
   "metadata": {
    "collapsed": false
   },
   "id": "8566f6c55b272ff8"
  },
  {
   "cell_type": "code",
   "execution_count": null,
   "outputs": [],
   "source": [
    "data_for_training.to_csv(\"./dataset/train_new_feature.csv\", index=False)\n",
    "data_for_testing.to_csv(\"./dataset/test_new_feature.csv\", index=False)"
   ],
   "metadata": {
    "collapsed": false
   },
   "id": "3f4f9e30e5f8cb3f"
  }
 ],
 "metadata": {
  "kernelspec": {
   "display_name": "Python 3",
   "language": "python",
   "name": "python3"
  },
  "language_info": {
   "codemirror_mode": {
    "name": "ipython",
    "version": 2
   },
   "file_extension": ".py",
   "mimetype": "text/x-python",
   "name": "python",
   "nbconvert_exporter": "python",
   "pygments_lexer": "ipython2",
   "version": "2.7.6"
  }
 },
 "nbformat": 4,
 "nbformat_minor": 5
}
