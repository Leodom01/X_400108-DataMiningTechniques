{
 "cells": [
  {
   "cell_type": "code",
   "execution_count": null,
   "metadata": {
    "ExecuteTime": {
     "end_time": "2024-04-27T17:19:54.650342Z",
     "start_time": "2024-04-27T17:19:44.616895Z"
    }
   },
   "outputs": [],
   "source": [
    "import pandas as pd\n",
    "import numpy as np\n",
    "\n",
    "df = pd.read_csv('../dataset/training_set_VU_DM.csv')\n",
    "df_test = pd.read_csv(\"../dataset/test_set_VU_DM.csv\")\n"
   ]
  },
  {
   "cell_type": "code",
   "execution_count": null,
   "metadata": {
    "ExecuteTime": {
     "end_time": "2024-04-27T17:19:57.266210Z",
     "start_time": "2024-04-27T17:19:56.699042Z"
    },
    "collapsed": false
   },
   "outputs": [],
   "source": [
    "df"
   ]
  },
  {
   "cell_type": "code",
   "execution_count": null,
   "metadata": {},
   "outputs": [],
   "source": [
    "df_test"
   ]
  },
  {
   "cell_type": "markdown",
   "metadata": {},
   "source": [
    "# A random recommender "
   ]
  },
  {
   "cell_type": "code",
   "execution_count": null,
   "metadata": {},
   "outputs": [],
   "source": [
    "\n",
    "\n",
    "# Group the DataFrame by 'Group' column\n",
    "grouped = df_test.groupby('srch_id')\n",
    "\n",
    "# Define a function to shuffle rows within each group\n",
    "def shuffle_within_group(group):\n",
    "    return group.sample(frac=1).reset_index(drop=True)\n",
    "\n",
    "# Apply the function to each group and append them together\n",
    "randomized_df = grouped.apply(shuffle_within_group)\n",
    "\n",
    "randomized_df[['srch_id', 'prop_id']].reset_index(drop=True).to_csv(\"../dataset/submission1_random.csv\", index=False)"
   ]
  },
  {
   "cell_type": "code",
   "execution_count": null,
   "metadata": {},
   "outputs": [],
   "source": []
  },
  {
   "cell_type": "code",
   "execution_count": null,
   "metadata": {},
   "outputs": [],
   "source": []
  }
 ],
 "metadata": {
  "kernelspec": {
   "display_name": "Python 3 (ipykernel)",
   "language": "python",
   "name": "python3"
  },
  "language_info": {
   "codemirror_mode": {
    "name": "ipython",
    "version": 3
   },
   "file_extension": ".py",
   "mimetype": "text/x-python",
   "name": "python",
   "nbconvert_exporter": "python",
   "pygments_lexer": "ipython3",
   "version": "3.9.6"
  }
 },
 "nbformat": 4,
 "nbformat_minor": 2
}
