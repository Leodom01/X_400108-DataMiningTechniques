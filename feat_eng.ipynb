{
 "cells": [
  {
   "cell_type": "code",
   "execution_count": 1,
   "metadata": {},
   "outputs": [],
   "source": [
    "import pandas as pd\n",
    "import numpy as np\n",
    "from sklearn.preprocessing import MinMaxScaler"
   ]
  },
  {
   "cell_type": "code",
   "execution_count": null,
   "metadata": {},
   "outputs": [],
   "source": [
    "df_train = pd.read_csv(\"./dataset/training_set_VU_DM.csv\")\n",
    "df_test = pd.read_csv(\"./dataset/test_set_VU_DM.csv\")\n",
    "\n",
    "# Get only the bets inv column (if any other company has better deals\n",
    "inv_columns = [f'comp{i}_rate' for i in range(1, 9)]\n",
    "# Get only the best rate (the lowest)\n",
    "rate_columns = [f'comp{i}_rate_percent_diff' for i in range(1, 9)]\n",
    "\n",
    "# Compute the maximum value across these columns for each row\n",
    "df_train['comp_inv'] = df_train[inv_columns].max(axis=1)\n",
    "df_test['comp_inv'] = df_test[inv_columns].max(axis=1)\n",
    "df_train['comp_rate_percent_diff'] = df_train[rate_columns].max(axis=1)\n",
    "df_test['comp_rate_percent_diff'] = df_train[rate_columns].max(axis=1)\n",
    "\n",
    "drop_competitors_cols = [ 'date_time', 'visitor_hist_starrating', 'visitor_hist_adr_usd',\n",
    "    'srch_booking_window',\n",
    "    'comp1_rate', 'comp1_inv', 'comp1_rate_percent_diff', \n",
    "    'comp2_rate', 'comp2_inv','comp2_rate_percent_diff', \n",
    "    'comp3_rate', 'comp3_inv','comp3_rate_percent_diff', \n",
    "    'comp4_rate', 'comp4_inv','comp4_rate_percent_diff', \n",
    "    'comp5_rate', 'comp5_inv','comp5_rate_percent_diff', \n",
    "    'comp6_rate', 'comp6_inv','comp6_rate_percent_diff', \n",
    "    'comp7_rate', 'comp7_inv','comp7_rate_percent_diff', \n",
    "    'comp8_rate', 'comp8_inv','comp8_rate_percent_diff'\n",
    "    ]\n",
    "\n",
    "df_train = df_train.drop(columns=drop_competitors_cols)\n",
    "df_train = df_train.drop(column=\"gross_bookings_usd\")\n",
    "df_test = df_test.drop(columns=drop_competitors_cols)\n",
    "\n",
    "# Min Max scale\n",
    "scaler = MinMaxScaler(feature_range=(0, 5))\n",
    "df_train['prop_starrating'] = scaler.fit_transform(df_train['prop_starrating'])\n",
    "df_test['prop_starrating'] = scaler.fit_transform(df_test['prop_starrating'])\n",
    "df_train['prop_review_score'] = scaler.fit_transform(df_train['prop_review_score'])\n",
    "df_test['prop_review_score'] = scaler.fit_transform(df_test['prop_review_score'])\n",
    "\n",
    "max_feat = max(df_test[\"prop_location_score1\"].max(), df_train[\"prop_location_score1\"].max())\n",
    "min_feat = min(df_test[\"prop_location_score1\"].min(), df_train[\"prop_location_score1\"].min())\n",
    "scaler = MinMaxScaler(feature_range=(min_feat, max_feat))\n",
    "df_train['prop_location_score1'] = scaler.fit_transform(df_train['prop_location_score1'])\n",
    "df_test['prop_location_score1'] = scaler.fit_transform(df_test['prop_location_score1'])\n",
    "\n",
    "max_feat = max(df_test[\"prop_log_historical_price\"].max(), df_train[\"prop_log_historical_price\"].max())\n",
    "min_feat = max(df_test[\"prop_log_historical_price\"].min(), df_train[\"prop_log_historical_price\"].min())\n",
    "scaler = MinMaxScaler(feature_range=(min_feat, max_feat))\n",
    "df_train['prop_log_historical_price'] = scaler.fit_transform(df_train['prop_log_historical_price'])\n",
    "df_test['prop_log_historical_price'] = scaler.fit_transform(df_test['prop_log_historical_price'])\n",
    "\n",
    "df_test = df_test[df_test[\"price_usd\"] < 1000000]"
   ]
  }
 ],
 "metadata": {
  "kernelspec": {
   "display_name": "Python 3",
   "language": "python",
   "name": "python3"
  },
  "language_info": {
   "codemirror_mode": {
    "name": "ipython",
    "version": 3
   },
   "file_extension": ".py",
   "mimetype": "text/x-python",
   "name": "python",
   "nbconvert_exporter": "python",
   "pygments_lexer": "ipython3",
   "version": "3.8.18"
  }
 },
 "nbformat": 4,
 "nbformat_minor": 2
}
