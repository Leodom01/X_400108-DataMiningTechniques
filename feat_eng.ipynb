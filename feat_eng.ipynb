{
 "cells": [
  {
   "cell_type": "code",
   "execution_count": 39,
   "metadata": {},
   "outputs": [],
   "source": [
    "import pandas as pd\n",
    "import numpy as np\n",
    "from sklearn.preprocessing import MinMaxScaler\n",
    "\n",
    "pd.set_option('display.max_columns', 500)\n",
    "pd.set_option('display.width', 1000)"
   ]
  },
  {
   "cell_type": "code",
   "execution_count": 40,
   "metadata": {},
   "outputs": [
    {
     "name": "stdout",
     "output_type": "stream",
     "text": [
      "['comp1_rate', 'comp2_rate', 'comp3_rate', 'comp4_rate', 'comp5_rate', 'comp6_rate', 'comp7_rate', 'comp8_rate']\n",
      "['comp1_rate_percent_diff', 'comp2_rate_percent_diff', 'comp3_rate_percent_diff', 'comp4_rate_percent_diff', 'comp5_rate_percent_diff', 'comp6_rate_percent_diff', 'comp7_rate_percent_diff', 'comp8_rate_percent_diff']\n"
     ]
    }
   ],
   "source": [
    "df_train = pd.read_csv(\"./dataset/training_set_VU_DM.csv\")\n",
    "df_test = pd.read_csv(\"./dataset/test_set_VU_DM.csv\")\n",
    "\n",
    "# Get only the bets inv column (if any other company has better deals\n",
    "inv_columns = [f'comp{i}_rate' for i in range(1, 9)]\n",
    "# Get only the best rate (the lowest)\n",
    "rate_columns = [f'comp{i}_rate_percent_diff' for i in range(1, 9)]\n",
    "\n",
    "print(inv_columns)\n",
    "print(rate_columns)"
   ]
  },
  {
   "cell_type": "code",
   "execution_count": 41,
   "metadata": {},
   "outputs": [
    {
     "name": "stdout",
     "output_type": "stream",
     "text": [
      "   srch_id            date_time  site_id  visitor_location_country_id  visitor_hist_starrating  visitor_hist_adr_usd  prop_country_id  prop_id  prop_starrating  prop_review_score  prop_brand_bool  prop_location_score1  prop_location_score2  prop_log_historical_price  position  price_usd  promotion_flag  srch_destination_id  srch_length_of_stay  srch_booking_window  srch_adults_count  srch_children_count  srch_room_count  srch_saturday_night_bool  srch_query_affinity_score  orig_destination_distance  random_bool  comp1_rate  comp1_inv  comp1_rate_percent_diff  comp2_rate  comp2_inv  comp2_rate_percent_diff  comp3_rate  comp3_inv  comp3_rate_percent_diff  comp4_rate  comp4_inv  comp4_rate_percent_diff  comp5_rate  comp5_inv  comp5_rate_percent_diff  comp6_rate  comp6_inv  comp6_rate_percent_diff  comp7_rate  comp7_inv  comp7_rate_percent_diff  comp8_rate  comp8_inv  comp8_rate_percent_diff  click_bool  gross_bookings_usd  booking_bool  comp_inv  comp_rate_percent_diff\n",
      "0        1  2013-04-04 08:32:15       12                          187                      NaN                   NaN              219      893                3                3.5                1                  2.83                0.0438                       4.95        27     104.77               0                23246                    1                    0                  4                    0                1                         1                        NaN                        NaN            1         NaN        NaN                      NaN         0.0        0.0                      NaN         0.0        0.0                      NaN         NaN        NaN                      NaN         0.0        0.0                      NaN         NaN        NaN                      NaN         NaN        NaN                      NaN         0.0        0.0                      NaN           0                 NaN             0       0.0                     NaN\n",
      "1        1  2013-04-04 08:32:15       12                          187                      NaN                   NaN              219    10404                4                4.0                1                  2.20                0.0149                       5.03        26     170.74               0                23246                    1                    0                  4                    0                1                         1                        NaN                        NaN            1         NaN        NaN                      NaN         NaN        NaN                      NaN         0.0        0.0                      NaN         NaN        NaN                      NaN         0.0        1.0                      NaN         NaN        NaN                      NaN         NaN        NaN                      NaN         0.0        0.0                      NaN           0                 NaN             0       0.0                     NaN\n",
      "2        1  2013-04-04 08:32:15       12                          187                      NaN                   NaN              219    21315                3                4.5                1                  2.20                0.0245                       4.92        21     179.80               0                23246                    1                    0                  4                    0                1                         1                        NaN                        NaN            1         NaN        NaN                      NaN         0.0        0.0                      NaN         0.0        0.0                      NaN         NaN        NaN                      NaN         0.0        0.0                      NaN         NaN        NaN                      NaN         NaN        NaN                      NaN         0.0        0.0                      NaN           0                 NaN             0       0.0                     NaN\n",
      "3        1  2013-04-04 08:32:15       12                          187                      NaN                   NaN              219    27348                2                4.0                1                  2.83                0.0125                       4.39        34     602.77               0                23246                    1                    0                  4                    0                1                         1                        NaN                        NaN            1         NaN        NaN                      NaN        -1.0        0.0                      5.0        -1.0        0.0                      5.0         NaN        NaN                      NaN         0.0        1.0                      NaN         NaN        NaN                      NaN         NaN        NaN                      NaN        -1.0        0.0                      5.0           0                 NaN             0       0.0                     5.0\n",
      "4        1  2013-04-04 08:32:15       12                          187                      NaN                   NaN              219    29604                4                3.5                1                  2.64                0.1241                       4.93         4     143.58               0                23246                    1                    0                  4                    0                1                         1                        NaN                        NaN            1         NaN        NaN                      NaN         0.0        0.0                      NaN         0.0        0.0                      NaN         NaN        NaN                      NaN         0.0        0.0                      NaN         NaN        NaN                      NaN         NaN        NaN                      NaN         0.0        0.0                      NaN           0                 NaN             0       0.0                     NaN\n",
      "5        1  2013-04-04 08:32:15       12                          187                      NaN                   NaN              219    30184                4                4.5                1                  2.77                0.1302                       5.20         7     195.32               0                23246                    1                    0                  4                    0                1                         1                        NaN                        NaN            1         NaN        NaN                      NaN         NaN        NaN                      NaN         0.0        0.0                      7.0         NaN        NaN                      NaN         0.0        0.0                      NaN         NaN        NaN                      NaN         NaN        NaN                      NaN         0.0        0.0                      7.0           0                 NaN             0       0.0                     7.0\n",
      "6        1  2013-04-04 08:32:15       12                          187                      NaN                   NaN              219    44147                3                3.5                1                  2.20                0.0356                       4.81        18     129.35               0                23246                    1                    0                  4                    0                1                         1                        NaN                        NaN            1         NaN        NaN                      NaN         0.0        0.0                      NaN         0.0        0.0                      NaN         NaN        NaN                      NaN         NaN        NaN                      NaN         NaN        NaN                      NaN         NaN        NaN                      NaN         0.0        0.0                      NaN           0                 NaN             0       0.0                     NaN\n",
      "7        1  2013-04-04 08:32:15       12                          187                      NaN                   NaN              219    50984                2                0.0                0                  1.61                   NaN                       4.14        35      85.37               0                23246                    1                    0                  4                    0                1                         1                        NaN                        NaN            1         NaN        NaN                      NaN         NaN        NaN                      NaN         NaN        NaN                      NaN         NaN        NaN                      NaN         NaN        NaN                      NaN         NaN        NaN                      NaN         NaN        NaN                      NaN         NaN        NaN                      NaN           0                 NaN             0       NaN                     NaN\n",
      "8        1  2013-04-04 08:32:15       12                          187                      NaN                   NaN              219    53341                4                4.0                1                  2.56                0.1238                       5.18         3     150.05               0                23246                    1                    0                  4                    0                1                         1                        NaN                        NaN            1         NaN        NaN                      NaN         0.0        0.0                      NaN         0.0        0.0                      NaN         NaN        NaN                      NaN         NaN        NaN                      NaN         NaN        NaN                      NaN         NaN        NaN                      NaN         0.0        0.0                      6.0           0                 NaN             0       0.0                     6.0\n",
      "9        1  2013-04-04 08:32:15       12                          187                      NaN                   NaN              219    56880                4                4.0                1                  2.83                0.1028                       5.15        10     280.69               0                23246                    1                    0                  4                    0                1                         1                        NaN                        NaN            1         NaN        NaN                      NaN         0.0        0.0                      NaN         0.0        0.0                      NaN         NaN        NaN                      NaN         0.0        0.0                      NaN         NaN        NaN                      NaN         NaN        NaN                      NaN         0.0        0.0                      NaN           0                 NaN             0       0.0                     NaN\n"
     ]
    }
   ],
   "source": [
    "# Compute the maximum value across these columns for each row\n",
    "df_train['comp_inv'] = df_train[inv_columns].max(axis=1)\n",
    "df_test['comp_inv'] = df_test[inv_columns].max(axis=1)\n",
    "df_train['comp_rate_percent_diff'] = df_train[rate_columns].max(axis=1)\n",
    "df_test['comp_rate_percent_diff'] = df_train[rate_columns].max(axis=1)\n",
    "print(df_train.head(n=10))"
   ]
  },
  {
   "cell_type": "code",
   "execution_count": 42,
   "metadata": {},
   "outputs": [
    {
     "name": "stdout",
     "output_type": "stream",
     "text": [
      "0    3\n",
      "1    4\n",
      "2    3\n",
      "3    2\n",
      "4    4\n",
      "Name: prop_starrating, dtype: int64\n",
      "0    3.5\n",
      "1    4.0\n",
      "2    4.5\n",
      "3    4.0\n",
      "4    3.5\n",
      "Name: prop_review_score, dtype: float64\n",
      "0    0.6\n",
      "1    0.8\n",
      "2    0.6\n",
      "3    0.4\n",
      "4    0.8\n",
      "Name: prop_starrating, dtype: float64\n",
      "0    0.7\n",
      "1    0.8\n",
      "2    0.9\n",
      "3    0.8\n",
      "4    0.7\n",
      "Name: prop_review_score, dtype: float64\n"
     ]
    }
   ],
   "source": [
    "\n",
    "# Min Max scale\n",
    "scaler = MinMaxScaler()\n",
    "print(df_train[\"prop_starrating\"].head(n=5))\n",
    "print(df_train[\"prop_review_score\"].head(n=5))\n",
    "df_train['prop_starrating'] = scaler.fit_transform(df_train[['prop_starrating']])\n",
    "df_test['prop_starrating'] = scaler.fit_transform(df_test[['prop_starrating']])\n",
    "df_train['prop_review_score'] = scaler.fit_transform(df_train[['prop_review_score']])\n",
    "df_test['prop_review_score'] = scaler.fit_transform(df_test[['prop_review_score']])\n",
    "print(df_train[\"prop_starrating\"].head(n=5))\n",
    "print(df_train[\"prop_review_score\"].head(n=5))"
   ]
  },
  {
   "cell_type": "code",
   "execution_count": 43,
   "metadata": {},
   "outputs": [
    {
     "name": "stdout",
     "output_type": "stream",
     "text": [
      "0    2.83\n",
      "1    2.20\n",
      "2    2.20\n",
      "3    2.83\n",
      "4    2.64\n",
      "Name: prop_location_score1, dtype: float64\n",
      "0    0.405444\n",
      "1    0.315186\n",
      "2    0.315186\n",
      "3    0.405444\n",
      "4    0.378223\n",
      "Name: prop_location_score1, dtype: float64\n"
     ]
    }
   ],
   "source": [
    "print(df_train[\"prop_location_score1\"].head(n=5))\n",
    "df_train['prop_location_score1'] = scaler.fit_transform(df_train[['prop_location_score1']])\n",
    "df_test['prop_location_score1'] = scaler.fit_transform(df_test[['prop_location_score1']])\n",
    "print(df_train[\"prop_location_score1\"].head(n=5))"
   ]
  },
  {
   "cell_type": "code",
   "execution_count": 44,
   "metadata": {},
   "outputs": [
    {
     "name": "stdout",
     "output_type": "stream",
     "text": [
      "0    4.95\n",
      "1    5.03\n",
      "2    4.92\n",
      "3    4.39\n",
      "4    4.93\n",
      "Name: prop_log_historical_price, dtype: float64\n",
      "0    0.797101\n",
      "1    0.809984\n",
      "2    0.792271\n",
      "3    0.706924\n",
      "4    0.793881\n",
      "Name: prop_log_historical_price, dtype: float64\n"
     ]
    },
    {
     "name": "stderr",
     "output_type": "stream",
     "text": [
      "/var/folders/vd/lwysz06930196bvqpw72pf600000gn/T/ipykernel_18767/2582056323.py:6: UserWarning: Boolean Series key will be reindexed to match DataFrame index.\n",
      "  df_train = df_train[df_test[\"price_usd\"] < 1000000]\n"
     ]
    }
   ],
   "source": [
    "\n",
    "print(df_train[\"prop_log_historical_price\"].head(n=5))\n",
    "df_train['prop_log_historical_price'] = scaler.fit_transform(df_train[['prop_log_historical_price']])\n",
    "df_test['prop_log_historical_price'] = scaler.fit_transform(df_test[['prop_log_historical_price']])\n",
    "print(df_train[\"prop_log_historical_price\"].head(n=5))\n",
    "\n",
    "df_train = df_train[df_test[\"price_usd\"] < 1000000]"
   ]
  },
  {
   "cell_type": "code",
   "execution_count": 45,
   "metadata": {},
   "outputs": [
    {
     "name": "stdout",
     "output_type": "stream",
     "text": [
      "         booking_bool  click_bool  interaction\n",
      "0                   0           0         -1.0\n",
      "1                   0           0         -1.0\n",
      "2                   0           0         -1.0\n",
      "3                   0           0         -1.0\n",
      "4                   0           0         -1.0\n",
      "...               ...         ...          ...\n",
      "4958342             0           0         -1.0\n",
      "4958343             0           0         -1.0\n",
      "4958344             0           0         -1.0\n",
      "4958345             1           1          1.0\n",
      "4958346             0           0         -1.0\n",
      "\n",
      "[4958287 rows x 3 columns]\n"
     ]
    }
   ],
   "source": [
    "\n",
    "# Interaction should be -1 if nothing is done, -0.6 if it's clicked, 1 if it's booked\n",
    "def get_interaction(row):\n",
    "    if row[\"booking_bool\"] == 1:\n",
    "        return 1\n",
    "    elif row[\"click_bool\"] == 1:\n",
    "        return -0.6\n",
    "    else:\n",
    "        return -1\n",
    "    \n",
    "df_train[\"interaction\"] = df_train.apply(get_interaction, axis=1)\n",
    "print(df_train[[\"booking_bool\", \"click_bool\", \"interaction\"]])"
   ]
  },
  {
   "cell_type": "code",
   "execution_count": 46,
   "metadata": {},
   "outputs": [],
   "source": [
    "drop_cols = [ 'date_time', 'visitor_hist_starrating', 'visitor_hist_adr_usd', 'srch_booking_window',\n",
    "    'comp1_rate', 'comp1_inv', 'comp1_rate_percent_diff', \n",
    "    'comp2_rate', 'comp2_inv','comp2_rate_percent_diff', \n",
    "    'comp3_rate', 'comp3_inv','comp3_rate_percent_diff', \n",
    "    'comp4_rate', 'comp4_inv','comp4_rate_percent_diff', \n",
    "    'comp5_rate', 'comp5_inv','comp5_rate_percent_diff', \n",
    "    'comp6_rate', 'comp6_inv','comp6_rate_percent_diff', \n",
    "    'comp7_rate', 'comp7_inv','comp7_rate_percent_diff', \n",
    "    'comp8_rate', 'comp8_inv','comp8_rate_percent_diff'\n",
    "    ]\n",
    "df_train = df_train.drop(columns=drop_cols)\n",
    "df_train = df_train.drop(columns=['gross_bookings_usd', 'click_bool', 'gross_bookings_usd'])\n",
    "df_test = df_test.drop(columns=drop_cols)"
   ]
  },
  {
   "cell_type": "code",
   "execution_count": 47,
   "metadata": {},
   "outputs": [],
   "source": [
    "df_train.to_csv(\"./dataset/train_LFM.csv\")\n",
    "df_test.to_csv(\"./dataset/test_LFM.csv\")"
   ]
  }
 ],
 "metadata": {
  "kernelspec": {
   "display_name": "Python 3",
   "language": "python",
   "name": "python3"
  },
  "language_info": {
   "codemirror_mode": {
    "name": "ipython",
    "version": 3
   },
   "file_extension": ".py",
   "mimetype": "text/x-python",
   "name": "python",
   "nbconvert_exporter": "python",
   "pygments_lexer": "ipython3",
   "version": "3.8.18"
  }
 },
 "nbformat": 4,
 "nbformat_minor": 2
}
