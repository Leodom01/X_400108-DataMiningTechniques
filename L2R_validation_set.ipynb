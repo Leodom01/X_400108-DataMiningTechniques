{
 "cells": [
  {
   "cell_type": "markdown",
   "source": [
    "# Learning to rank model\n",
    "testing is done on validation set "
   ],
   "metadata": {
    "collapsed": false
   },
   "id": "5955c766c1f66513"
  },
  {
   "cell_type": "code",
   "execution_count": 1,
   "id": "initial_id",
   "metadata": {
    "collapsed": true,
    "ExecuteTime": {
     "end_time": "2024-05-12T15:30:19.090660Z",
     "start_time": "2024-05-12T15:30:18.930343Z"
    }
   },
   "outputs": [],
   "source": [
    "import pandas as pd\n",
    "import numpy as np\n",
    "from sklearn.model_selection import GroupShuffleSplit\n",
    "import xgboost as xgb\n",
    "\n",
    "def train_test_split_by_group(data, id_column, test_size=0.2, random_state=None):\n",
    "    \"\"\"\n",
    "    Split a dataset by groups defined by a specific column.\n",
    "    This function is used to split the queries into train and test set\n",
    "    Parameters:\n",
    "    - data: pandas DataFrame, the dataset to be split.\n",
    "    - id_column: str, the name of the column containing the group IDs.\n",
    "    - test_size: float, optional (default=0.2), the proportion of the dataset to include in the test split.\n",
    "    - random_state: int or RandomState instance, optional (default=None), control the randomness of the shuffling.\n",
    "\n",
    "    Returns:\n",
    "    - train_set: pandas DataFrame, the training set.\n",
    "    - test_set: pandas DataFrame, the test set.\n",
    "    \"\"\"\n",
    "    # Create GroupShuffleSplit object\n",
    "    gss = GroupShuffleSplit(n_splits=1, test_size=test_size, random_state=random_state)\n",
    "\n",
    "    # Group by the specified column and apply GroupShuffleSplit\n",
    "    groups = data[id_column]\n",
    "    train_idx, test_idx = next(gss.split(data, groups=groups))\n",
    "\n",
    "    # Split the dataset into train and test sets\n",
    "    train_set = data.iloc[train_idx]\n",
    "    test_set = data.iloc[test_idx]\n",
    "\n",
    "    return train_set, test_set\n",
    "\n",
    "def ndcg_at_k(true_relevance, predicted_relevance, k):\n",
    "    # Ensure lengths of true_relevance and predicted_relevance are equal\n",
    "    if len(true_relevance) != len(predicted_relevance):\n",
    "        raise ValueError(\"Lengths of true_relevance and predicted_relevance must be equal\")\n",
    "\n",
    "\n",
    "    # Get the true relevance scores based on the sorted indices\n",
    "    true_relevance_sorted = [true_relevance[i] for i in predicted_relevance]\n",
    "\n",
    "    # Calculate DCG (Discounted Cumulative Gain) at k\n",
    "    dcg_at_k = 0\n",
    "    for i in range(min(k, len(true_relevance))):\n",
    "        dcg_at_k += (2 ** true_relevance_sorted[i] - 1) / np.log2(i + 2)\n",
    "\n",
    "    # Sort the true relevance scores\n",
    "    true_relevance_sorted_desc = sorted(true_relevance, reverse=True)\n",
    "\n",
    "    # Calculate ideal DCG at k\n",
    "    idcg_at_k = 0\n",
    "    for i in range(min(k, len(true_relevance))):\n",
    "        idcg_at_k += (2 ** true_relevance_sorted_desc[i] - 1) / np.log2(i + 2)\n",
    "\n",
    "    # Calculate NDCG at k\n",
    "    if idcg_at_k == 0:\n",
    "        ndcg_at_k = 0\n",
    "    else:\n",
    "        ndcg_at_k = dcg_at_k / idcg_at_k\n",
    "\n",
    "    return ndcg_at_k\n",
    "\n"
   ]
  },
  {
   "cell_type": "markdown",
   "source": [
    "# Loading the data, splitting into train and validation set"
   ],
   "metadata": {
    "collapsed": false
   },
   "id": "4445efa0af794bef"
  },
  {
   "cell_type": "code",
   "execution_count": 2,
   "outputs": [
    {
     "data": {
      "text/plain": "         srch_id  visitor_location_country_id  visitor_hist_starrating  \\\n0              1                          187                 3.374334   \n1              1                          187                 3.374334   \n2              1                          187                 3.374334   \n3              1                          187                 3.374334   \n4              1                          187                 3.374334   \n...          ...                          ...                      ...   \n4958342   332785                          219                 3.374334   \n4958343   332785                          219                 3.374334   \n4958344   332785                          219                 3.374334   \n4958345   332785                          219                 3.374334   \n4958346   332785                          219                 3.374334   \n\n         visitor_hist_adr_usd  prop_country_id  prop_id  prop_starrating  \\\n0                  176.022659              219      893                3   \n1                  176.022659              219    10404                4   \n2                  176.022659              219    21315                3   \n3                  176.022659              219    27348                2   \n4                  176.022659              219    29604                4   \n...                       ...              ...      ...              ...   \n4958342            176.022659              219    77700                3   \n4958343            176.022659              219    88083                3   \n4958344            176.022659              219    94508                3   \n4958345            176.022659              219   128360                3   \n4958346            176.022659              219   134949                3   \n\n         prop_review_score  prop_brand_bool  prop_location_score1  ...  \\\n0                      3.5                1                  2.83  ...   \n1                      4.0                1                  2.20  ...   \n2                      4.5                1                  2.20  ...   \n3                      4.0                1                  2.83  ...   \n4                      3.5                1                  2.64  ...   \n...                    ...              ...                   ...  ...   \n4958342                4.0                1                  1.61  ...   \n4958343                4.0                1                  1.95  ...   \n4958344                3.5                1                  1.10  ...   \n4958345                5.0                1                  1.95  ...   \n4958346                2.5                1                  1.10  ...   \n\n         position  price_usd  promotion_flag  srch_destination_id  \\\n0              27     104.77               0                23246   \n1              26     170.74               0                23246   \n2              21     179.80               0                23246   \n3              34     602.77               0                23246   \n4               4     143.58               0                23246   \n...           ...        ...             ...                  ...   \n4958342         2     118.00               0                16974   \n4958343         3      89.00               0                16974   \n4958344         4      99.00               0                16974   \n4958345         1     139.00               0                16974   \n4958346         6      61.00               0                16974   \n\n         srch_length_of_stay  srch_adults_count  srch_children_count  \\\n0                          1                  4                    0   \n1                          1                  4                    0   \n2                          1                  4                    0   \n3                          1                  4                    0   \n4                          1                  4                    0   \n...                      ...                ...                  ...   \n4958342                    1                  3                    0   \n4958343                    1                  3                    0   \n4958344                    1                  3                    0   \n4958345                    1                  3                    0   \n4958346                    1                  3                    0   \n\n         srch_room_count  srch_saturday_night_bool  target_label  \n0                      1                         1             0  \n1                      1                         1             0  \n2                      1                         1             0  \n3                      1                         1             0  \n4                      1                         1             0  \n...                  ...                       ...           ...  \n4958342                1                         0             0  \n4958343                1                         0             0  \n4958344                1                         0             0  \n4958345                1                         0             5  \n4958346                1                         0             0  \n\n[2975504 rows x 21 columns]",
      "text/html": "<div>\n<style scoped>\n    .dataframe tbody tr th:only-of-type {\n        vertical-align: middle;\n    }\n\n    .dataframe tbody tr th {\n        vertical-align: top;\n    }\n\n    .dataframe thead th {\n        text-align: right;\n    }\n</style>\n<table border=\"1\" class=\"dataframe\">\n  <thead>\n    <tr style=\"text-align: right;\">\n      <th></th>\n      <th>srch_id</th>\n      <th>visitor_location_country_id</th>\n      <th>visitor_hist_starrating</th>\n      <th>visitor_hist_adr_usd</th>\n      <th>prop_country_id</th>\n      <th>prop_id</th>\n      <th>prop_starrating</th>\n      <th>prop_review_score</th>\n      <th>prop_brand_bool</th>\n      <th>prop_location_score1</th>\n      <th>...</th>\n      <th>position</th>\n      <th>price_usd</th>\n      <th>promotion_flag</th>\n      <th>srch_destination_id</th>\n      <th>srch_length_of_stay</th>\n      <th>srch_adults_count</th>\n      <th>srch_children_count</th>\n      <th>srch_room_count</th>\n      <th>srch_saturday_night_bool</th>\n      <th>target_label</th>\n    </tr>\n  </thead>\n  <tbody>\n    <tr>\n      <th>0</th>\n      <td>1</td>\n      <td>187</td>\n      <td>3.374334</td>\n      <td>176.022659</td>\n      <td>219</td>\n      <td>893</td>\n      <td>3</td>\n      <td>3.5</td>\n      <td>1</td>\n      <td>2.83</td>\n      <td>...</td>\n      <td>27</td>\n      <td>104.77</td>\n      <td>0</td>\n      <td>23246</td>\n      <td>1</td>\n      <td>4</td>\n      <td>0</td>\n      <td>1</td>\n      <td>1</td>\n      <td>0</td>\n    </tr>\n    <tr>\n      <th>1</th>\n      <td>1</td>\n      <td>187</td>\n      <td>3.374334</td>\n      <td>176.022659</td>\n      <td>219</td>\n      <td>10404</td>\n      <td>4</td>\n      <td>4.0</td>\n      <td>1</td>\n      <td>2.20</td>\n      <td>...</td>\n      <td>26</td>\n      <td>170.74</td>\n      <td>0</td>\n      <td>23246</td>\n      <td>1</td>\n      <td>4</td>\n      <td>0</td>\n      <td>1</td>\n      <td>1</td>\n      <td>0</td>\n    </tr>\n    <tr>\n      <th>2</th>\n      <td>1</td>\n      <td>187</td>\n      <td>3.374334</td>\n      <td>176.022659</td>\n      <td>219</td>\n      <td>21315</td>\n      <td>3</td>\n      <td>4.5</td>\n      <td>1</td>\n      <td>2.20</td>\n      <td>...</td>\n      <td>21</td>\n      <td>179.80</td>\n      <td>0</td>\n      <td>23246</td>\n      <td>1</td>\n      <td>4</td>\n      <td>0</td>\n      <td>1</td>\n      <td>1</td>\n      <td>0</td>\n    </tr>\n    <tr>\n      <th>3</th>\n      <td>1</td>\n      <td>187</td>\n      <td>3.374334</td>\n      <td>176.022659</td>\n      <td>219</td>\n      <td>27348</td>\n      <td>2</td>\n      <td>4.0</td>\n      <td>1</td>\n      <td>2.83</td>\n      <td>...</td>\n      <td>34</td>\n      <td>602.77</td>\n      <td>0</td>\n      <td>23246</td>\n      <td>1</td>\n      <td>4</td>\n      <td>0</td>\n      <td>1</td>\n      <td>1</td>\n      <td>0</td>\n    </tr>\n    <tr>\n      <th>4</th>\n      <td>1</td>\n      <td>187</td>\n      <td>3.374334</td>\n      <td>176.022659</td>\n      <td>219</td>\n      <td>29604</td>\n      <td>4</td>\n      <td>3.5</td>\n      <td>1</td>\n      <td>2.64</td>\n      <td>...</td>\n      <td>4</td>\n      <td>143.58</td>\n      <td>0</td>\n      <td>23246</td>\n      <td>1</td>\n      <td>4</td>\n      <td>0</td>\n      <td>1</td>\n      <td>1</td>\n      <td>0</td>\n    </tr>\n    <tr>\n      <th>...</th>\n      <td>...</td>\n      <td>...</td>\n      <td>...</td>\n      <td>...</td>\n      <td>...</td>\n      <td>...</td>\n      <td>...</td>\n      <td>...</td>\n      <td>...</td>\n      <td>...</td>\n      <td>...</td>\n      <td>...</td>\n      <td>...</td>\n      <td>...</td>\n      <td>...</td>\n      <td>...</td>\n      <td>...</td>\n      <td>...</td>\n      <td>...</td>\n      <td>...</td>\n      <td>...</td>\n    </tr>\n    <tr>\n      <th>4958342</th>\n      <td>332785</td>\n      <td>219</td>\n      <td>3.374334</td>\n      <td>176.022659</td>\n      <td>219</td>\n      <td>77700</td>\n      <td>3</td>\n      <td>4.0</td>\n      <td>1</td>\n      <td>1.61</td>\n      <td>...</td>\n      <td>2</td>\n      <td>118.00</td>\n      <td>0</td>\n      <td>16974</td>\n      <td>1</td>\n      <td>3</td>\n      <td>0</td>\n      <td>1</td>\n      <td>0</td>\n      <td>0</td>\n    </tr>\n    <tr>\n      <th>4958343</th>\n      <td>332785</td>\n      <td>219</td>\n      <td>3.374334</td>\n      <td>176.022659</td>\n      <td>219</td>\n      <td>88083</td>\n      <td>3</td>\n      <td>4.0</td>\n      <td>1</td>\n      <td>1.95</td>\n      <td>...</td>\n      <td>3</td>\n      <td>89.00</td>\n      <td>0</td>\n      <td>16974</td>\n      <td>1</td>\n      <td>3</td>\n      <td>0</td>\n      <td>1</td>\n      <td>0</td>\n      <td>0</td>\n    </tr>\n    <tr>\n      <th>4958344</th>\n      <td>332785</td>\n      <td>219</td>\n      <td>3.374334</td>\n      <td>176.022659</td>\n      <td>219</td>\n      <td>94508</td>\n      <td>3</td>\n      <td>3.5</td>\n      <td>1</td>\n      <td>1.10</td>\n      <td>...</td>\n      <td>4</td>\n      <td>99.00</td>\n      <td>0</td>\n      <td>16974</td>\n      <td>1</td>\n      <td>3</td>\n      <td>0</td>\n      <td>1</td>\n      <td>0</td>\n      <td>0</td>\n    </tr>\n    <tr>\n      <th>4958345</th>\n      <td>332785</td>\n      <td>219</td>\n      <td>3.374334</td>\n      <td>176.022659</td>\n      <td>219</td>\n      <td>128360</td>\n      <td>3</td>\n      <td>5.0</td>\n      <td>1</td>\n      <td>1.95</td>\n      <td>...</td>\n      <td>1</td>\n      <td>139.00</td>\n      <td>0</td>\n      <td>16974</td>\n      <td>1</td>\n      <td>3</td>\n      <td>0</td>\n      <td>1</td>\n      <td>0</td>\n      <td>5</td>\n    </tr>\n    <tr>\n      <th>4958346</th>\n      <td>332785</td>\n      <td>219</td>\n      <td>3.374334</td>\n      <td>176.022659</td>\n      <td>219</td>\n      <td>134949</td>\n      <td>3</td>\n      <td>2.5</td>\n      <td>1</td>\n      <td>1.10</td>\n      <td>...</td>\n      <td>6</td>\n      <td>61.00</td>\n      <td>0</td>\n      <td>16974</td>\n      <td>1</td>\n      <td>3</td>\n      <td>0</td>\n      <td>1</td>\n      <td>0</td>\n      <td>0</td>\n    </tr>\n  </tbody>\n</table>\n<p>2975504 rows × 21 columns</p>\n</div>"
     },
     "execution_count": 2,
     "metadata": {},
     "output_type": "execute_result"
    }
   ],
   "source": [
    "df = pd.read_csv('./dataset/train_clean_v1.csv')\n",
    "train_set, test_set = train_test_split_by_group(df, 'srch_id', test_size=0.4, random_state=7)\n",
    "train_set"
   ],
   "metadata": {
    "collapsed": false,
    "ExecuteTime": {
     "end_time": "2024-05-12T15:30:22.957265Z",
     "start_time": "2024-05-12T15:30:19.092260Z"
    }
   },
   "id": "755a81e1cd5b9c8a"
  },
  {
   "cell_type": "markdown",
   "source": [
    "# preparing the data for XGBRanker"
   ],
   "metadata": {
    "collapsed": false
   },
   "id": "3f6f4c436bf00b41"
  },
  {
   "cell_type": "code",
   "execution_count": 3,
   "outputs": [],
   "source": [
    "X_train = train_set.loc[:, ~train_set.columns.isin(['srch_id','target_label'])]\n",
    "y_train = train_set.loc[:, train_set.columns.isin(['target_label'])]\n",
    "\n",
    "groups = train_set['srch_id'].to_numpy()\n",
    "\n",
    "#We need to keep the id for later predictions\n",
    "X_test = test_set.loc[:, ~test_set.columns.isin(['target_label'])]\n",
    "y_test = test_set.loc[:, test_set.columns.isin(['target_label'])]\n"
   ],
   "metadata": {
    "collapsed": false,
    "ExecuteTime": {
     "end_time": "2024-05-12T15:30:23.100501Z",
     "start_time": "2024-05-12T15:30:22.958054Z"
    }
   },
   "id": "70ca5f553403be6a"
  },
  {
   "cell_type": "code",
   "execution_count": 4,
   "outputs": [
    {
     "data": {
      "text/plain": "XGBRanker(base_score=None, booster=None, callbacks=None, colsample_bylevel=None,\n          colsample_bynode=None, colsample_bytree=None, device=None,\n          early_stopping_rounds=None, enable_categorical=False, eta=0.1,\n          eval_metric='ndcg@5', feature_types=None, gamma=None,\n          grow_policy=None, importance_type=None, interaction_constraints=None,\n          learning_rate=None, max_bin=None, max_cat_threshold=None,\n          max_cat_to_onehot=None, max_delta_step=None, max_depth=6,\n          max_leaves=None, min_child_weight=None, missing=nan,\n          monotone_constraints=None, multi_strategy=None, n_estimators=None,\n          n_jobs=None, num_parallel_tree=None, ...)",
      "text/html": "<style>#sk-container-id-1 {\n  /* Definition of color scheme common for light and dark mode */\n  --sklearn-color-text: black;\n  --sklearn-color-line: gray;\n  /* Definition of color scheme for unfitted estimators */\n  --sklearn-color-unfitted-level-0: #fff5e6;\n  --sklearn-color-unfitted-level-1: #f6e4d2;\n  --sklearn-color-unfitted-level-2: #ffe0b3;\n  --sklearn-color-unfitted-level-3: chocolate;\n  /* Definition of color scheme for fitted estimators */\n  --sklearn-color-fitted-level-0: #f0f8ff;\n  --sklearn-color-fitted-level-1: #d4ebff;\n  --sklearn-color-fitted-level-2: #b3dbfd;\n  --sklearn-color-fitted-level-3: cornflowerblue;\n\n  /* Specific color for light theme */\n  --sklearn-color-text-on-default-background: var(--sg-text-color, var(--theme-code-foreground, var(--jp-content-font-color1, black)));\n  --sklearn-color-background: var(--sg-background-color, var(--theme-background, var(--jp-layout-color0, white)));\n  --sklearn-color-border-box: var(--sg-text-color, var(--theme-code-foreground, var(--jp-content-font-color1, black)));\n  --sklearn-color-icon: #696969;\n\n  @media (prefers-color-scheme: dark) {\n    /* Redefinition of color scheme for dark theme */\n    --sklearn-color-text-on-default-background: var(--sg-text-color, var(--theme-code-foreground, var(--jp-content-font-color1, white)));\n    --sklearn-color-background: var(--sg-background-color, var(--theme-background, var(--jp-layout-color0, #111)));\n    --sklearn-color-border-box: var(--sg-text-color, var(--theme-code-foreground, var(--jp-content-font-color1, white)));\n    --sklearn-color-icon: #878787;\n  }\n}\n\n#sk-container-id-1 {\n  color: var(--sklearn-color-text);\n}\n\n#sk-container-id-1 pre {\n  padding: 0;\n}\n\n#sk-container-id-1 input.sk-hidden--visually {\n  border: 0;\n  clip: rect(1px 1px 1px 1px);\n  clip: rect(1px, 1px, 1px, 1px);\n  height: 1px;\n  margin: -1px;\n  overflow: hidden;\n  padding: 0;\n  position: absolute;\n  width: 1px;\n}\n\n#sk-container-id-1 div.sk-dashed-wrapped {\n  border: 1px dashed var(--sklearn-color-line);\n  margin: 0 0.4em 0.5em 0.4em;\n  box-sizing: border-box;\n  padding-bottom: 0.4em;\n  background-color: var(--sklearn-color-background);\n}\n\n#sk-container-id-1 div.sk-container {\n  /* jupyter's `normalize.less` sets `[hidden] { display: none; }`\n     but bootstrap.min.css set `[hidden] { display: none !important; }`\n     so we also need the `!important` here to be able to override the\n     default hidden behavior on the sphinx rendered scikit-learn.org.\n     See: https://github.com/scikit-learn/scikit-learn/issues/21755 */\n  display: inline-block !important;\n  position: relative;\n}\n\n#sk-container-id-1 div.sk-text-repr-fallback {\n  display: none;\n}\n\ndiv.sk-parallel-item,\ndiv.sk-serial,\ndiv.sk-item {\n  /* draw centered vertical line to link estimators */\n  background-image: linear-gradient(var(--sklearn-color-text-on-default-background), var(--sklearn-color-text-on-default-background));\n  background-size: 2px 100%;\n  background-repeat: no-repeat;\n  background-position: center center;\n}\n\n/* Parallel-specific style estimator block */\n\n#sk-container-id-1 div.sk-parallel-item::after {\n  content: \"\";\n  width: 100%;\n  border-bottom: 2px solid var(--sklearn-color-text-on-default-background);\n  flex-grow: 1;\n}\n\n#sk-container-id-1 div.sk-parallel {\n  display: flex;\n  align-items: stretch;\n  justify-content: center;\n  background-color: var(--sklearn-color-background);\n  position: relative;\n}\n\n#sk-container-id-1 div.sk-parallel-item {\n  display: flex;\n  flex-direction: column;\n}\n\n#sk-container-id-1 div.sk-parallel-item:first-child::after {\n  align-self: flex-end;\n  width: 50%;\n}\n\n#sk-container-id-1 div.sk-parallel-item:last-child::after {\n  align-self: flex-start;\n  width: 50%;\n}\n\n#sk-container-id-1 div.sk-parallel-item:only-child::after {\n  width: 0;\n}\n\n/* Serial-specific style estimator block */\n\n#sk-container-id-1 div.sk-serial {\n  display: flex;\n  flex-direction: column;\n  align-items: center;\n  background-color: var(--sklearn-color-background);\n  padding-right: 1em;\n  padding-left: 1em;\n}\n\n\n/* Toggleable style: style used for estimator/Pipeline/ColumnTransformer box that is\nclickable and can be expanded/collapsed.\n- Pipeline and ColumnTransformer use this feature and define the default style\n- Estimators will overwrite some part of the style using the `sk-estimator` class\n*/\n\n/* Pipeline and ColumnTransformer style (default) */\n\n#sk-container-id-1 div.sk-toggleable {\n  /* Default theme specific background. It is overwritten whether we have a\n  specific estimator or a Pipeline/ColumnTransformer */\n  background-color: var(--sklearn-color-background);\n}\n\n/* Toggleable label */\n#sk-container-id-1 label.sk-toggleable__label {\n  cursor: pointer;\n  display: block;\n  width: 100%;\n  margin-bottom: 0;\n  padding: 0.5em;\n  box-sizing: border-box;\n  text-align: center;\n}\n\n#sk-container-id-1 label.sk-toggleable__label-arrow:before {\n  /* Arrow on the left of the label */\n  content: \"▸\";\n  float: left;\n  margin-right: 0.25em;\n  color: var(--sklearn-color-icon);\n}\n\n#sk-container-id-1 label.sk-toggleable__label-arrow:hover:before {\n  color: var(--sklearn-color-text);\n}\n\n/* Toggleable content - dropdown */\n\n#sk-container-id-1 div.sk-toggleable__content {\n  max-height: 0;\n  max-width: 0;\n  overflow: hidden;\n  text-align: left;\n  /* unfitted */\n  background-color: var(--sklearn-color-unfitted-level-0);\n}\n\n#sk-container-id-1 div.sk-toggleable__content.fitted {\n  /* fitted */\n  background-color: var(--sklearn-color-fitted-level-0);\n}\n\n#sk-container-id-1 div.sk-toggleable__content pre {\n  margin: 0.2em;\n  border-radius: 0.25em;\n  color: var(--sklearn-color-text);\n  /* unfitted */\n  background-color: var(--sklearn-color-unfitted-level-0);\n}\n\n#sk-container-id-1 div.sk-toggleable__content.fitted pre {\n  /* unfitted */\n  background-color: var(--sklearn-color-fitted-level-0);\n}\n\n#sk-container-id-1 input.sk-toggleable__control:checked~div.sk-toggleable__content {\n  /* Expand drop-down */\n  max-height: 200px;\n  max-width: 100%;\n  overflow: auto;\n}\n\n#sk-container-id-1 input.sk-toggleable__control:checked~label.sk-toggleable__label-arrow:before {\n  content: \"▾\";\n}\n\n/* Pipeline/ColumnTransformer-specific style */\n\n#sk-container-id-1 div.sk-label input.sk-toggleable__control:checked~label.sk-toggleable__label {\n  color: var(--sklearn-color-text);\n  background-color: var(--sklearn-color-unfitted-level-2);\n}\n\n#sk-container-id-1 div.sk-label.fitted input.sk-toggleable__control:checked~label.sk-toggleable__label {\n  background-color: var(--sklearn-color-fitted-level-2);\n}\n\n/* Estimator-specific style */\n\n/* Colorize estimator box */\n#sk-container-id-1 div.sk-estimator input.sk-toggleable__control:checked~label.sk-toggleable__label {\n  /* unfitted */\n  background-color: var(--sklearn-color-unfitted-level-2);\n}\n\n#sk-container-id-1 div.sk-estimator.fitted input.sk-toggleable__control:checked~label.sk-toggleable__label {\n  /* fitted */\n  background-color: var(--sklearn-color-fitted-level-2);\n}\n\n#sk-container-id-1 div.sk-label label.sk-toggleable__label,\n#sk-container-id-1 div.sk-label label {\n  /* The background is the default theme color */\n  color: var(--sklearn-color-text-on-default-background);\n}\n\n/* On hover, darken the color of the background */\n#sk-container-id-1 div.sk-label:hover label.sk-toggleable__label {\n  color: var(--sklearn-color-text);\n  background-color: var(--sklearn-color-unfitted-level-2);\n}\n\n/* Label box, darken color on hover, fitted */\n#sk-container-id-1 div.sk-label.fitted:hover label.sk-toggleable__label.fitted {\n  color: var(--sklearn-color-text);\n  background-color: var(--sklearn-color-fitted-level-2);\n}\n\n/* Estimator label */\n\n#sk-container-id-1 div.sk-label label {\n  font-family: monospace;\n  font-weight: bold;\n  display: inline-block;\n  line-height: 1.2em;\n}\n\n#sk-container-id-1 div.sk-label-container {\n  text-align: center;\n}\n\n/* Estimator-specific */\n#sk-container-id-1 div.sk-estimator {\n  font-family: monospace;\n  border: 1px dotted var(--sklearn-color-border-box);\n  border-radius: 0.25em;\n  box-sizing: border-box;\n  margin-bottom: 0.5em;\n  /* unfitted */\n  background-color: var(--sklearn-color-unfitted-level-0);\n}\n\n#sk-container-id-1 div.sk-estimator.fitted {\n  /* fitted */\n  background-color: var(--sklearn-color-fitted-level-0);\n}\n\n/* on hover */\n#sk-container-id-1 div.sk-estimator:hover {\n  /* unfitted */\n  background-color: var(--sklearn-color-unfitted-level-2);\n}\n\n#sk-container-id-1 div.sk-estimator.fitted:hover {\n  /* fitted */\n  background-color: var(--sklearn-color-fitted-level-2);\n}\n\n/* Specification for estimator info (e.g. \"i\" and \"?\") */\n\n/* Common style for \"i\" and \"?\" */\n\n.sk-estimator-doc-link,\na:link.sk-estimator-doc-link,\na:visited.sk-estimator-doc-link {\n  float: right;\n  font-size: smaller;\n  line-height: 1em;\n  font-family: monospace;\n  background-color: var(--sklearn-color-background);\n  border-radius: 1em;\n  height: 1em;\n  width: 1em;\n  text-decoration: none !important;\n  margin-left: 1ex;\n  /* unfitted */\n  border: var(--sklearn-color-unfitted-level-1) 1pt solid;\n  color: var(--sklearn-color-unfitted-level-1);\n}\n\n.sk-estimator-doc-link.fitted,\na:link.sk-estimator-doc-link.fitted,\na:visited.sk-estimator-doc-link.fitted {\n  /* fitted */\n  border: var(--sklearn-color-fitted-level-1) 1pt solid;\n  color: var(--sklearn-color-fitted-level-1);\n}\n\n/* On hover */\ndiv.sk-estimator:hover .sk-estimator-doc-link:hover,\n.sk-estimator-doc-link:hover,\ndiv.sk-label-container:hover .sk-estimator-doc-link:hover,\n.sk-estimator-doc-link:hover {\n  /* unfitted */\n  background-color: var(--sklearn-color-unfitted-level-3);\n  color: var(--sklearn-color-background);\n  text-decoration: none;\n}\n\ndiv.sk-estimator.fitted:hover .sk-estimator-doc-link.fitted:hover,\n.sk-estimator-doc-link.fitted:hover,\ndiv.sk-label-container:hover .sk-estimator-doc-link.fitted:hover,\n.sk-estimator-doc-link.fitted:hover {\n  /* fitted */\n  background-color: var(--sklearn-color-fitted-level-3);\n  color: var(--sklearn-color-background);\n  text-decoration: none;\n}\n\n/* Span, style for the box shown on hovering the info icon */\n.sk-estimator-doc-link span {\n  display: none;\n  z-index: 9999;\n  position: relative;\n  font-weight: normal;\n  right: .2ex;\n  padding: .5ex;\n  margin: .5ex;\n  width: min-content;\n  min-width: 20ex;\n  max-width: 50ex;\n  color: var(--sklearn-color-text);\n  box-shadow: 2pt 2pt 4pt #999;\n  /* unfitted */\n  background: var(--sklearn-color-unfitted-level-0);\n  border: .5pt solid var(--sklearn-color-unfitted-level-3);\n}\n\n.sk-estimator-doc-link.fitted span {\n  /* fitted */\n  background: var(--sklearn-color-fitted-level-0);\n  border: var(--sklearn-color-fitted-level-3);\n}\n\n.sk-estimator-doc-link:hover span {\n  display: block;\n}\n\n/* \"?\"-specific style due to the `<a>` HTML tag */\n\n#sk-container-id-1 a.estimator_doc_link {\n  float: right;\n  font-size: 1rem;\n  line-height: 1em;\n  font-family: monospace;\n  background-color: var(--sklearn-color-background);\n  border-radius: 1rem;\n  height: 1rem;\n  width: 1rem;\n  text-decoration: none;\n  /* unfitted */\n  color: var(--sklearn-color-unfitted-level-1);\n  border: var(--sklearn-color-unfitted-level-1) 1pt solid;\n}\n\n#sk-container-id-1 a.estimator_doc_link.fitted {\n  /* fitted */\n  border: var(--sklearn-color-fitted-level-1) 1pt solid;\n  color: var(--sklearn-color-fitted-level-1);\n}\n\n/* On hover */\n#sk-container-id-1 a.estimator_doc_link:hover {\n  /* unfitted */\n  background-color: var(--sklearn-color-unfitted-level-3);\n  color: var(--sklearn-color-background);\n  text-decoration: none;\n}\n\n#sk-container-id-1 a.estimator_doc_link.fitted:hover {\n  /* fitted */\n  background-color: var(--sklearn-color-fitted-level-3);\n}\n</style><div id=\"sk-container-id-1\" class=\"sk-top-container\"><div class=\"sk-text-repr-fallback\"><pre>XGBRanker(base_score=None, booster=None, callbacks=None, colsample_bylevel=None,\n          colsample_bynode=None, colsample_bytree=None, device=None,\n          early_stopping_rounds=None, enable_categorical=False, eta=0.1,\n          eval_metric=&#x27;ndcg@5&#x27;, feature_types=None, gamma=None,\n          grow_policy=None, importance_type=None, interaction_constraints=None,\n          learning_rate=None, max_bin=None, max_cat_threshold=None,\n          max_cat_to_onehot=None, max_delta_step=None, max_depth=6,\n          max_leaves=None, min_child_weight=None, missing=nan,\n          monotone_constraints=None, multi_strategy=None, n_estimators=None,\n          n_jobs=None, num_parallel_tree=None, ...)</pre><b>In a Jupyter environment, please rerun this cell to show the HTML representation or trust the notebook. <br />On GitHub, the HTML representation is unable to render, please try loading this page with nbviewer.org.</b></div><div class=\"sk-container\" hidden><div class=\"sk-item\"><div class=\"sk-estimator fitted sk-toggleable\"><input class=\"sk-toggleable__control sk-hidden--visually\" id=\"sk-estimator-id-1\" type=\"checkbox\" checked><label for=\"sk-estimator-id-1\" class=\"sk-toggleable__label fitted sk-toggleable__label-arrow fitted\">&nbsp;XGBRanker<span class=\"sk-estimator-doc-link fitted\">i<span>Fitted</span></span></label><div class=\"sk-toggleable__content fitted\"><pre>XGBRanker(base_score=None, booster=None, callbacks=None, colsample_bylevel=None,\n          colsample_bynode=None, colsample_bytree=None, device=None,\n          early_stopping_rounds=None, enable_categorical=False, eta=0.1,\n          eval_metric=&#x27;ndcg@5&#x27;, feature_types=None, gamma=None,\n          grow_policy=None, importance_type=None, interaction_constraints=None,\n          learning_rate=None, max_bin=None, max_cat_threshold=None,\n          max_cat_to_onehot=None, max_delta_step=None, max_depth=6,\n          max_leaves=None, min_child_weight=None, missing=nan,\n          monotone_constraints=None, multi_strategy=None, n_estimators=None,\n          n_jobs=None, num_parallel_tree=None, ...)</pre></div> </div></div></div></div>"
     },
     "execution_count": 4,
     "metadata": {},
     "output_type": "execute_result"
    }
   ],
   "source": [
    "# TODO: hyper-parameter tuning\n",
    "params = {\n",
    "    'tree_method': 'hist',\n",
    "    'objective': 'rank:ndcg',  # Use rank:ndcg for optimizing NDCG\n",
    "    'eval_metric': 'ndcg@5',    # Evaluation metric NDCG@k\n",
    "    'eta': 0.1,                  # Learning rate\n",
    "    'max_depth': 6               # Maximum depth of a tree\n",
    "}\n",
    "\n",
    "# Initialize the XGBRanker with modified parameters\n",
    "model = xgb.XGBRanker(**params)\n",
    "\n",
    "model.fit(X_train.to_numpy(), y_train.to_numpy(), qid = groups, verbose=True)"
   ],
   "metadata": {
    "collapsed": false,
    "ExecuteTime": {
     "end_time": "2024-05-12T15:30:35.254315Z",
     "start_time": "2024-05-12T15:30:23.092036Z"
    }
   },
   "id": "ef8bc0eeb2057f11"
  },
  {
   "cell_type": "markdown",
   "source": [
    "# Prediction\n",
    "prediction is done query by query"
   ],
   "metadata": {
    "collapsed": false
   },
   "id": "4ebea3b923f9c1ce"
  },
  {
   "cell_type": "code",
   "execution_count": 5,
   "outputs": [
    {
     "name": "stderr",
     "output_type": "stream",
     "text": [
      "/var/folders/2p/lk_7jyfx52g86tz59mc412p80000gn/T/ipykernel_39565/548247891.py:4: DeprecationWarning: DataFrameGroupBy.apply operated on the grouping columns. This behavior is deprecated, and in a future version of pandas the grouping columns will be excluded from the operation. Either pass `include_groups=False` to exclude the groupings or explicitly select the grouping columns after groupby to silence this warning.\n",
      "  predictions = (X_test.groupby('srch_id')\n",
      "/var/folders/2p/lk_7jyfx52g86tz59mc412p80000gn/T/ipykernel_39565/548247891.py:6: DeprecationWarning: DataFrameGroupBy.apply operated on the grouping columns. This behavior is deprecated, and in a future version of pandas the grouping columns will be excluded from the operation. Either pass `include_groups=False` to exclude the groupings or explicitly select the grouping columns after groupby to silence this warning.\n",
      "  modified_df = X_test.groupby('srch_id').apply(lambda group: group.assign(predicted_reg=predictions[group.name])).reset_index(drop=True)\n"
     ]
    },
    {
     "data": {
      "text/plain": "srch_id\n8         [-0.64375854, -0.34511906, -0.94781065, -0.305...\n12        [-0.62729126, -1.0236231, -1.1924335, -0.24230...\n17        [-1.211541, 0.10486238, -0.6549049, -1.1793015...\n25        [1.794562, -0.39742678, 1.7205083, 0.26119342,...\n28        [0.89292794, -1.1600217, 0.074762106, 0.023751...\n                                ...                        \n332765    [0.31580502, -0.40884826, -0.6016005, 0.724629...\n332768    [-0.79299444, 0.3566039, -0.33526954, -0.70068...\n332777    [-1.2935704, -0.89689356, 0.6533425, -0.783709...\n332781    [-0.30176976, 1.5457252, 0.9517893, -0.5357024...\n332784    [-1.1668267, -0.38300407, -0.07444897, -0.7496...\nLength: 79918, dtype: object"
     },
     "execution_count": 5,
     "metadata": {},
     "output_type": "execute_result"
    }
   ],
   "source": [
    "def predict(model, df):\n",
    "    return model.predict(df.loc[:, ~df.columns.isin(['srch_id', 'target_label'])])\n",
    "\n",
    "predictions = (X_test.groupby('srch_id')\n",
    "               .apply(lambda x: predict(model, x)))\n",
    "\n",
    "\n",
    "modified_df = X_test.groupby('srch_id').apply(lambda group: group.assign(predicted_reg=predictions[group.name])).reset_index(drop=True)\n",
    "\n",
    "predictions\n"
   ],
   "metadata": {
    "collapsed": false,
    "ExecuteTime": {
     "end_time": "2024-05-12T15:32:14.690191Z",
     "start_time": "2024-05-12T15:30:35.251322Z"
    }
   },
   "id": "9b0555bbb2f109b4"
  },
  {
   "cell_type": "code",
   "execution_count": 7,
   "outputs": [
    {
     "name": "stdout",
     "output_type": "stream",
     "text": [
      "0.24090885754831726\n"
     ]
    }
   ],
   "source": [
    "from sklearn.metrics import ndcg_score\n",
    "\n",
    "result = modified_df.sort_values(by=['srch_id', 'predicted_reg'], ascending=[True, False])\n",
    "print(ndcg_score([y_test['target_label'].to_numpy()], [result['predicted_reg'].to_numpy()], k=5))\n",
    "# y_test['target_label']\n",
    "# result['predicted_reg']\n",
    "# y_test['target_label'].to_numpy()\n",
    "# result['predicted_reg'].to_numpy()"
   ],
   "metadata": {
    "collapsed": false,
    "ExecuteTime": {
     "end_time": "2024-05-12T15:32:15.992012Z",
     "start_time": "2024-05-12T15:32:14.687052Z"
    }
   },
   "id": "93aa8a53980ee579"
  }
 ],
 "metadata": {
  "kernelspec": {
   "display_name": "Python 3",
   "language": "python",
   "name": "python3"
  },
  "language_info": {
   "codemirror_mode": {
    "name": "ipython",
    "version": 2
   },
   "file_extension": ".py",
   "mimetype": "text/x-python",
   "name": "python",
   "nbconvert_exporter": "python",
   "pygments_lexer": "ipython2",
   "version": "2.7.6"
  }
 },
 "nbformat": 4,
 "nbformat_minor": 5
}
