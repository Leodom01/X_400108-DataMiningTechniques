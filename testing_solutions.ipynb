{
 "cells": [
  {
   "cell_type": "code",
   "execution_count": 3,
   "metadata": {},
   "outputs": [],
   "source": [
    "import pandas as pd\n",
    "import numpy as np\n",
    "\n",
    "df = pd.read_csv('dataset/training_set_VU_DM.csv')\n",
    "df_test = pd.read_csv(\"dataset/test_set_VU_DM.csv\")\n"
   ]
  },
  {
   "cell_type": "markdown",
   "metadata": {},
   "source": [
    "# A random recommender "
   ]
  },
  {
   "cell_type": "code",
   "execution_count": null,
   "metadata": {},
   "outputs": [],
   "source": [
    "\n",
    "\n",
    "# Group the DataFrame by 'Group' column\n",
    "grouped = df_test.groupby('srch_id')\n",
    "\n",
    "# Define a function to shuffle rows within each group\n",
    "def shuffle_within_group(group):\n",
    "    return group.sample(frac=1).reset_index(drop=True)\n",
    "\n",
    "# Apply the function to each group and append them together\n",
    "randomized_df = grouped.apply(shuffle_within_group)\n",
    "\n",
    "randomized_df[['srch_id', 'prop_id']].reset_index(drop=True).to_csv(\"../dataset/submission1_random.csv\", index=False)\n",
    "\n",
    "# accuracy = 0.15746"
   ]
  },
  {
   "cell_type": "markdown",
   "metadata": {},
   "source": [
    "# Ranking them only based on the review score history of the hotels\n"
   ]
  },
  {
   "cell_type": "code",
   "execution_count": 6,
   "metadata": {},
   "outputs": [],
   "source": [
    "# impute the prop_review_score, if null replace with 0 \n",
    "df_test_imputed = df_test\n",
    "df_test_imputed['prop_review_score'] = df_test_imputed['prop_review_score'].fillna(0)\n",
    "\n",
    "grouped = df_test_imputed.groupby('srch_id')\n",
    "sorted_groups = [group.sort_values(by='prop_review_score') for _, group in grouped]\n",
    "result = pd.concat(sorted_groups)\n",
    "\n",
    "result[['srch_id', 'prop_id']].reset_index(drop=True).to_csv(\"dataset/submission2_sort_reviews.csv\", index=False)\n",
    "\n",
    "# accuracy = 0.12393 \n"
   ]
  },
  {
   "cell_type": "code",
   "execution_count": null,
   "metadata": {},
   "outputs": [],
   "source": []
  }
 ],
 "metadata": {
  "kernelspec": {
   "display_name": "venv",
   "language": "python",
   "name": "python3"
  },
  "language_info": {
   "codemirror_mode": {
    "name": "ipython",
    "version": 3
   },
   "file_extension": ".py",
   "mimetype": "text/x-python",
   "name": "python",
   "nbconvert_exporter": "python",
   "pygments_lexer": "ipython3",
   "version": "3.9.6"
  }
 },
 "nbformat": 4,
 "nbformat_minor": 2
}
