{
 "cells": [
  {
   "cell_type": "code",
   "execution_count": null,
   "id": "initial_id",
   "metadata": {
    "collapsed": true,
    "is_executing": true
   },
   "outputs": [],
   "source": [
    "import pandas as pd\n",
    "\n",
    "import utility\n",
    "\n",
    "train_set_path = './dataset/train_new_feature.csv'\n",
    "test_set_path = './dataset/test_new_feature.csv'\n",
    "\n",
    "train_set, test_set = utility.train_test_split_by_group(pd.read_csv(train_set_path), id_column='srch_id', test_size=0.1, random_state= 7)"
   ]
  },
  {
   "cell_type": "code",
   "execution_count": null,
   "outputs": [],
   "source": [
    "X_train, y_train, qid_train, X_test, y_test, qid_test = utility.preprocess_data(train_set, test_set, test_label=True)\n",
    "qid_train.value_counts().sort_index()"
   ],
   "metadata": {
    "collapsed": false,
    "is_executing": true
   },
   "id": "78317b7cb7bb9d64"
  },
  {
   "cell_type": "code",
   "execution_count": null,
   "outputs": [],
   "source": [
    "params = {\n",
    "    \"objective\": \"lambdarank\",\n",
    "    \"metric\": \"ndcg\",\n",
    "    \"n_estimators\": 100,\n",
    "    \"learning_rate\": 0.1\n",
    "}\n",
    "model = utility.train_lgbm_ranker(X_train, y_train, qid_train.value_counts().sort_index(), params)"
   ],
   "metadata": {
    "collapsed": false,
    "is_executing": true
   },
   "id": "a92c820132cf6fe4"
  },
  {
   "cell_type": "code",
   "execution_count": null,
   "outputs": [],
   "source": [
    "utility.calculate_ndcg(model, X_test, y_test, qid_test, k=5)"
   ],
   "metadata": {
    "collapsed": false,
    "is_executing": true
   },
   "id": "584da68eeffcc8ab"
  },
  {
   "cell_type": "code",
   "execution_count": null,
   "outputs": [],
   "source": [
    "import lightgbm as lgb\n",
    "import matplotlib.pyplot as plt\n",
    "\n",
    "# Assuming `model` is your trained LightGBM model\n",
    "# Change tree_index to the specific tree you want to visualize\n",
    "lgb.plot_importance(model)\n",
    "plt.savefig('./model1.png', dpi=1200)\n"
   ],
   "metadata": {
    "collapsed": false,
    "is_executing": true
   },
   "id": "6fd36bec1c20f778"
  },
  {
   "cell_type": "code",
   "execution_count": null,
   "outputs": [],
   "source": [],
   "metadata": {
    "collapsed": false,
    "is_executing": true
   },
   "id": "43bea7f2678970d4"
  }
 ],
 "metadata": {
  "kernelspec": {
   "display_name": "Python 3",
   "language": "python",
   "name": "python3"
  },
  "language_info": {
   "codemirror_mode": {
    "name": "ipython",
    "version": 2
   },
   "file_extension": ".py",
   "mimetype": "text/x-python",
   "name": "python",
   "nbconvert_exporter": "python",
   "pygments_lexer": "ipython2",
   "version": "2.7.6"
  }
 },
 "nbformat": 4,
 "nbformat_minor": 5
}
