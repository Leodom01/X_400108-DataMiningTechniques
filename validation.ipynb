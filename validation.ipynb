{
 "cells": [
  {
   "cell_type": "code",
   "execution_count": 1,
   "id": "initial_id",
   "metadata": {
    "collapsed": true,
    "ExecuteTime": {
     "end_time": "2024-05-16T07:08:25.251873Z",
     "start_time": "2024-05-16T07:08:17.593163Z"
    }
   },
   "outputs": [],
   "source": [
    "import pandas as pd\n",
    "\n",
    "import utility\n",
    "\n",
    "train_set_path = './dataset/train_new_feature.csv'\n",
    "test_set_path = './dataset/test_new_feature.csv'\n",
    "\n",
    "train_set, test_set = utility.train_test_split_by_group(pd.read_csv(train_set_path), id_column='srch_id', test_size=0.1, random_state= 7)"
   ]
  },
  {
   "cell_type": "code",
   "execution_count": 2,
   "outputs": [
    {
     "data": {
      "text/plain": "srch_id\n1         28\n4         32\n6          5\n8         21\n11        33\n          ..\n332776    10\n332777    32\n332781    15\n332782    24\n332785     6\nName: count, Length: 179815, dtype: int64"
     },
     "execution_count": 2,
     "metadata": {},
     "output_type": "execute_result"
    }
   ],
   "source": [
    "X_train, y_train, qid_train, X_test, y_test, qid_test = utility.preprocess_data(train_set, test_set, test_label=True)\n",
    "qid_train.value_counts().sort_index()"
   ],
   "metadata": {
    "collapsed": false,
    "ExecuteTime": {
     "end_time": "2024-05-16T07:08:25.716826Z",
     "start_time": "2024-05-16T07:08:25.256411Z"
    }
   },
   "id": "78317b7cb7bb9d64"
  },
  {
   "cell_type": "code",
   "execution_count": 3,
   "outputs": [
    {
     "name": "stdout",
     "output_type": "stream",
     "text": [
      "[LightGBM] [Info] Auto-choosing row-wise multi-threading, the overhead of testing was 0.145773 seconds.\n",
      "You can set `force_row_wise=true` to remove the overhead.\n",
      "And if memory is not enough, you can set `force_col_wise=true`.\n",
      "[LightGBM] [Info] Total Bins 2976\n",
      "[LightGBM] [Info] Number of data points in the train set: 4461236, number of used features: 21\n"
     ]
    }
   ],
   "source": [
    "params = {\n",
    "    \"objective\": \"lambdarank\",\n",
    "    \"metric\": \"ndcg\",\n",
    "    \"n_estimators\": 1000,\n",
    "    \"learning_rate\": 0.05\n",
    "}\n",
    "model = utility.train_lgbm_ranker(X_train, y_train, qid_train.value_counts().sort_index(), params)"
   ],
   "metadata": {
    "collapsed": false,
    "ExecuteTime": {
     "end_time": "2024-05-16T07:10:47.352899Z",
     "start_time": "2024-05-16T07:08:25.747567Z"
    }
   },
   "id": "a92c820132cf6fe4"
  },
  {
   "cell_type": "code",
   "execution_count": 4,
   "outputs": [
    {
     "name": "stderr",
     "output_type": "stream",
     "text": [
      "Calculating NDCG scores: 100%|██████████| 19980/19980 [00:48<00:00, 411.04it/s]\n"
     ]
    },
    {
     "data": {
      "text/plain": "0.39034606625985646"
     },
     "execution_count": 4,
     "metadata": {},
     "output_type": "execute_result"
    }
   ],
   "source": [
    "utility.calculate_ndcg(model, X_test, y_test, qid_test, k=5)"
   ],
   "metadata": {
    "collapsed": false,
    "ExecuteTime": {
     "end_time": "2024-05-16T07:11:36.012149Z",
     "start_time": "2024-05-16T07:10:47.359462Z"
    }
   },
   "id": "584da68eeffcc8ab"
  },
  {
   "cell_type": "code",
   "execution_count": 4,
   "outputs": [],
   "source": [],
   "metadata": {
    "collapsed": false,
    "ExecuteTime": {
     "end_time": "2024-05-16T07:11:36.017238Z",
     "start_time": "2024-05-16T07:11:36.011040Z"
    }
   },
   "id": "6fd36bec1c20f778"
  }
 ],
 "metadata": {
  "kernelspec": {
   "display_name": "Python 3",
   "language": "python",
   "name": "python3"
  },
  "language_info": {
   "codemirror_mode": {
    "name": "ipython",
    "version": 2
   },
   "file_extension": ".py",
   "mimetype": "text/x-python",
   "name": "python",
   "nbconvert_exporter": "python",
   "pygments_lexer": "ipython2",
   "version": "2.7.6"
  }
 },
 "nbformat": 4,
 "nbformat_minor": 5
}
